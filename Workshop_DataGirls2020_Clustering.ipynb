{
  "nbformat": 4,
  "nbformat_minor": 0,
  "metadata": {
    "kernelspec": {
      "display_name": "Python 3",
      "language": "python",
      "name": "python3"
    },
    "language_info": {
      "codemirror_mode": {
        "name": "ipython",
        "version": 3
      },
      "file_extension": ".py",
      "mimetype": "text/x-python",
      "name": "python",
      "nbconvert_exporter": "python",
      "pygments_lexer": "ipython3",
      "version": "3.7.3"
    },
    "colab": {
      "name": "Workshop_DataGirls2020_Clustering.ipynb",
      "provenance": [],
      "collapsed_sections": [],
      "include_colab_link": true
    }
  },
  "cells": [
    {
      "cell_type": "markdown",
      "metadata": {
        "id": "view-in-github",
        "colab_type": "text"
      },
      "source": [
        "<a href=\"https://colab.research.google.com/github/felipemaiapolo/datagirls_clustering_2020/blob/main/Workshop_DataGirls2020_Clustering.ipynb\" target=\"_parent\"><img src=\"https://colab.research.google.com/assets/colab-badge.svg\" alt=\"Open In Colab\"/></a>"
      ]
    },
    {
      "cell_type": "markdown",
      "metadata": {
        "id": "JpY7chB4qHD6"
      },
      "source": [
        "# Workshop Data Girls 2020: Clustering \n",
        "\n",
        "\n",
        "**Autor:** Felipe Maia Polo - Co-fundador e ex-presidente do Neuron - *Data science and Artificial Intelligence*, economista pela USP e mestrando em Estatística pela mesma instituição. Apaixonado por matemática, estatística e *data science*.\n",
        "\n",
        "**Contato:** felipemaiapolo@gmail.com - https://www.linkedin.com/in/felipemaiapolo/\n",
        "\n",
        "**Feedback:** https://forms.gle/U6yBVSYwxNRWaE15A\n",
        "\n",
        "**Sugestões de leitura**\n",
        "\n",
        "1. **Probabilidade:** Ross, S. (2014). A first course in probability. Pearson.\n",
        "2. **Probabilidade e Estatística:** Morettin, P. A., & BUSSAB, W. O. (2017). Estatística básica. Editora Saraiva.\n",
        "3. **Análise de Regressão (linear & logística):** Wooldridge, J. M. (2015). Introductory econometrics: A modern approach. Nelson Education.\n",
        "4. **Machine Learning:** James, G., Witten, D., Hastie, T., & Tibshirani, R. (2013). An introduction to statistical learning (Vol. 112, p. 18). New York: springer."
      ]
    },
    {
      "cell_type": "markdown",
      "metadata": {
        "id": "G1pl_-RIL1P_"
      },
      "source": [
        "## Como segmentar clientes em grupos mais ou menos uniformes de forma a ter um melhor direcionamento de políticas?"
      ]
    },
    {
      "cell_type": "markdown",
      "metadata": {
        "id": "Id3DUkwaT6oR"
      },
      "source": [
        "\n",
        "Vamos começar chamando os pacotes que utilizaremos:"
      ]
    },
    {
      "cell_type": "code",
      "metadata": {
        "id": "4iZLBqUGqHEa",
        "colab": {
          "base_uri": "https://localhost:8080/"
        },
        "outputId": "23549b07-bceb-4fe1-cfb6-d7d513c46763"
      },
      "source": [
        "import pandas as pd\n",
        "import numpy as np\n",
        "import requests\n",
        "import io\n",
        "\n",
        "from sklearn.datasets.samples_generator import make_blobs\n",
        "from sklearn.manifold import TSNE\n",
        "from sklearn.preprocessing import MinMaxScaler\n",
        "from sklearn.cluster import KMeans \n",
        "from sklearn.metrics import  silhouette_score, silhouette_samples\n",
        "\n",
        "from IPython.display import Image\n",
        "from IPython.core.display import HTML \n",
        "\n",
        "import matplotlib.pyplot as plt "
      ],
      "execution_count": null,
      "outputs": [
        {
          "output_type": "stream",
          "text": [
            "/usr/local/lib/python3.6/dist-packages/sklearn/utils/deprecation.py:144: FutureWarning: The sklearn.datasets.samples_generator module is  deprecated in version 0.22 and will be removed in version 0.24. The corresponding classes / functions should instead be imported from sklearn.datasets. Anything that cannot be imported from sklearn.datasets is now part of the private API.\n",
            "  warnings.warn(message, FutureWarning)\n"
          ],
          "name": "stderr"
        }
      ]
    },
    {
      "cell_type": "markdown",
      "metadata": {
        "id": "Ok2wjJ1-qHEW"
      },
      "source": [
        "Hoje vamos focar nossas atenções na técnica *K-Means*, um modelo muito importante e que é capaz de descobrir estruturas escondidas nos dados. Essa técnica é um modelo de clusterização, ou segmentação, e é utilizada para agruparmos indivíduos diferentes em nossa base de dados. Mas por que isso é importante? No exemplo a seguir, por exemplo, é importante pois poderemos entender melhor nossos clientes e nos direcionar mais objetivamente a cada um dos grupos. \n",
        "\n",
        "Antes de começarmos, um comparação entre tarefas de classificação e de clusterização:"
      ]
    },
    {
      "cell_type": "code",
      "metadata": {
        "id": "_6PVVM2fRjsl",
        "colab": {
          "base_uri": "https://localhost:8080/",
          "height": 521
        },
        "outputId": "8639dfcd-b8ae-455e-e92e-f13f5d816ac1"
      },
      "source": [
        "#Imagem retirada de https://mc.ai/supervised-vs-unsupervised-learning/\n",
        "Image(url= \"https://raw.githubusercontent.com/felipemaiapolo/datagirls_clustering_2020/main/unsup.jpg\", width=900, height=500)"
      ],
      "execution_count": null,
      "outputs": [
        {
          "output_type": "execute_result",
          "data": {
            "text/html": [
              "<img src=\"https://raw.githubusercontent.com/felipemaiapolo/datagirls_clustering_2020/main/unsup.jpg\" width=\"900\" height=\"500\"/>"
            ],
            "text/plain": [
              "<IPython.core.display.Image object>"
            ]
          },
          "metadata": {
            "tags": []
          },
          "execution_count": 3
        }
      ]
    },
    {
      "cell_type": "markdown",
      "metadata": {
        "id": "Wl-ELwv2SslR"
      },
      "source": [
        "A partir de agora vamos trabalhar com uma base de dados de clientes de um shopping. Essa base de dados foi retirada do Kaggle (https://www.kaggle.com/vjchoudhary7/customer-segmentation-tutorial-in-python), conta com 200 clientes, sendo que temos 4 características de cada um deles dada pelas variáveis:\n",
        "\n",
        "1. **CustomerID**: ID único de cada cliente\n",
        "2. **Gender**: Gênero (Feminino ou Masculino)\n",
        "3. **Age**: Idade do cliente\n",
        "4. **Annual Income**: Renda anual do cliente (em mil dólares)\n",
        "5. **Spending Score (1-100)**: Pontuação criada pelo shopping com base nos comportamentos de consumo\n"
      ]
    },
    {
      "cell_type": "markdown",
      "metadata": {
        "id": "SE5IDjjCqHEz"
      },
      "source": [
        "Abrindo a base de dados:"
      ]
    },
    {
      "cell_type": "code",
      "metadata": {
        "id": "RZFYfT9jqHE0"
      },
      "source": [
        "download = requests.get(\"https://raw.githubusercontent.com/felipemaiapolo/datagirls_clustering_2020/main/shoppingdata.csv\").content\n",
        "data = pd.read_csv(io.StringIO(download.decode('utf-8')), sep=',')"
      ],
      "execution_count": null,
      "outputs": []
    },
    {
      "cell_type": "markdown",
      "metadata": {
        "id": "w8gO2otmqHE5"
      },
      "source": [
        "Checando o formato da base de dados:"
      ]
    },
    {
      "cell_type": "code",
      "metadata": {
        "id": "5yfVDhTFqHE7",
        "colab": {
          "base_uri": "https://localhost:8080/"
        },
        "outputId": "1b76a413-9a6c-442f-8d42-c7ba1d58b784"
      },
      "source": [
        "data.shape"
      ],
      "execution_count": null,
      "outputs": [
        {
          "output_type": "execute_result",
          "data": {
            "text/plain": [
              "(200, 5)"
            ]
          },
          "metadata": {
            "tags": []
          },
          "execution_count": 5
        }
      ]
    },
    {
      "cell_type": "markdown",
      "metadata": {
        "id": "DG3mWTTfqHFA"
      },
      "source": [
        "Checando os dados com *.head()*:"
      ]
    },
    {
      "cell_type": "code",
      "metadata": {
        "id": "UgCfiPs5qHFB",
        "colab": {
          "base_uri": "https://localhost:8080/",
          "height": 198
        },
        "outputId": "ddaf3d99-4392-47d2-ef36-a54d3c8ad8cf"
      },
      "source": [
        "data.head()"
      ],
      "execution_count": null,
      "outputs": [
        {
          "output_type": "execute_result",
          "data": {
            "text/html": [
              "<div>\n",
              "<style scoped>\n",
              "    .dataframe tbody tr th:only-of-type {\n",
              "        vertical-align: middle;\n",
              "    }\n",
              "\n",
              "    .dataframe tbody tr th {\n",
              "        vertical-align: top;\n",
              "    }\n",
              "\n",
              "    .dataframe thead th {\n",
              "        text-align: right;\n",
              "    }\n",
              "</style>\n",
              "<table border=\"1\" class=\"dataframe\">\n",
              "  <thead>\n",
              "    <tr style=\"text-align: right;\">\n",
              "      <th></th>\n",
              "      <th>CustomerID</th>\n",
              "      <th>Genre</th>\n",
              "      <th>Age</th>\n",
              "      <th>Annual Income (k$)</th>\n",
              "      <th>Spending Score (1-100)</th>\n",
              "    </tr>\n",
              "  </thead>\n",
              "  <tbody>\n",
              "    <tr>\n",
              "      <th>0</th>\n",
              "      <td>1</td>\n",
              "      <td>Male</td>\n",
              "      <td>19</td>\n",
              "      <td>15</td>\n",
              "      <td>39</td>\n",
              "    </tr>\n",
              "    <tr>\n",
              "      <th>1</th>\n",
              "      <td>2</td>\n",
              "      <td>Male</td>\n",
              "      <td>21</td>\n",
              "      <td>15</td>\n",
              "      <td>81</td>\n",
              "    </tr>\n",
              "    <tr>\n",
              "      <th>2</th>\n",
              "      <td>3</td>\n",
              "      <td>Female</td>\n",
              "      <td>20</td>\n",
              "      <td>16</td>\n",
              "      <td>6</td>\n",
              "    </tr>\n",
              "    <tr>\n",
              "      <th>3</th>\n",
              "      <td>4</td>\n",
              "      <td>Female</td>\n",
              "      <td>23</td>\n",
              "      <td>16</td>\n",
              "      <td>77</td>\n",
              "    </tr>\n",
              "    <tr>\n",
              "      <th>4</th>\n",
              "      <td>5</td>\n",
              "      <td>Female</td>\n",
              "      <td>31</td>\n",
              "      <td>17</td>\n",
              "      <td>40</td>\n",
              "    </tr>\n",
              "  </tbody>\n",
              "</table>\n",
              "</div>"
            ],
            "text/plain": [
              "   CustomerID   Genre  Age  Annual Income (k$)  Spending Score (1-100)\n",
              "0           1    Male   19                  15                      39\n",
              "1           2    Male   21                  15                      81\n",
              "2           3  Female   20                  16                       6\n",
              "3           4  Female   23                  16                      77\n",
              "4           5  Female   31                  17                      40"
            ]
          },
          "metadata": {
            "tags": []
          },
          "execution_count": 6
        }
      ]
    },
    {
      "cell_type": "markdown",
      "metadata": {
        "id": "8saMc49RqHFM"
      },
      "source": [
        "Para facilitar a manipulação da nossa base de dados, vamos transformar a variável Gênero em binária, sendo que o gênero feminino será representado por 1 e o masculino por 0:"
      ]
    },
    {
      "cell_type": "code",
      "metadata": {
        "id": "k6OfJRYXqHFP",
        "colab": {
          "base_uri": "https://localhost:8080/",
          "height": 198
        },
        "outputId": "07dcce1e-0ce1-4861-d67b-55f5bfb0846c"
      },
      "source": [
        "def genero(x):\n",
        "    if x == 'Female':\n",
        "        return 1\n",
        "    else:\n",
        "        return 0\n",
        "    \n",
        "data['Genre'] = data['Genre'].apply(genero)\n",
        "data.head()"
      ],
      "execution_count": null,
      "outputs": [
        {
          "output_type": "execute_result",
          "data": {
            "text/html": [
              "<div>\n",
              "<style scoped>\n",
              "    .dataframe tbody tr th:only-of-type {\n",
              "        vertical-align: middle;\n",
              "    }\n",
              "\n",
              "    .dataframe tbody tr th {\n",
              "        vertical-align: top;\n",
              "    }\n",
              "\n",
              "    .dataframe thead th {\n",
              "        text-align: right;\n",
              "    }\n",
              "</style>\n",
              "<table border=\"1\" class=\"dataframe\">\n",
              "  <thead>\n",
              "    <tr style=\"text-align: right;\">\n",
              "      <th></th>\n",
              "      <th>CustomerID</th>\n",
              "      <th>Genre</th>\n",
              "      <th>Age</th>\n",
              "      <th>Annual Income (k$)</th>\n",
              "      <th>Spending Score (1-100)</th>\n",
              "    </tr>\n",
              "  </thead>\n",
              "  <tbody>\n",
              "    <tr>\n",
              "      <th>0</th>\n",
              "      <td>1</td>\n",
              "      <td>0</td>\n",
              "      <td>19</td>\n",
              "      <td>15</td>\n",
              "      <td>39</td>\n",
              "    </tr>\n",
              "    <tr>\n",
              "      <th>1</th>\n",
              "      <td>2</td>\n",
              "      <td>0</td>\n",
              "      <td>21</td>\n",
              "      <td>15</td>\n",
              "      <td>81</td>\n",
              "    </tr>\n",
              "    <tr>\n",
              "      <th>2</th>\n",
              "      <td>3</td>\n",
              "      <td>1</td>\n",
              "      <td>20</td>\n",
              "      <td>16</td>\n",
              "      <td>6</td>\n",
              "    </tr>\n",
              "    <tr>\n",
              "      <th>3</th>\n",
              "      <td>4</td>\n",
              "      <td>1</td>\n",
              "      <td>23</td>\n",
              "      <td>16</td>\n",
              "      <td>77</td>\n",
              "    </tr>\n",
              "    <tr>\n",
              "      <th>4</th>\n",
              "      <td>5</td>\n",
              "      <td>1</td>\n",
              "      <td>31</td>\n",
              "      <td>17</td>\n",
              "      <td>40</td>\n",
              "    </tr>\n",
              "  </tbody>\n",
              "</table>\n",
              "</div>"
            ],
            "text/plain": [
              "   CustomerID  Genre  Age  Annual Income (k$)  Spending Score (1-100)\n",
              "0           1      0   19                  15                      39\n",
              "1           2      0   21                  15                      81\n",
              "2           3      1   20                  16                       6\n",
              "3           4      1   23                  16                      77\n",
              "4           5      1   31                  17                      40"
            ]
          },
          "metadata": {
            "tags": []
          },
          "execution_count": 7
        }
      ]
    },
    {
      "cell_type": "markdown",
      "metadata": {
        "id": "QtycKD_HqHFU"
      },
      "source": [
        "O modelo de agrupamento (K-Means) que utilizaremos funciona bem somente com variáveis quantitativas, então não utilizaremos a variável de gênero para realizar o agrupamento. Como não utilizaremos nem a variável de gênero e nem a variável de Id no momento do agrupamento, vamos criar uma base de dados auxiliar somente com as variáveis que queremos. Preste atenção que este momento é **muito** importante, pois devemos verificar se alguma das variáveis que utilizaremos tem valores faltantes e, se tiverem, deveremos manter somente aqueles indivíduos que não têm valores faltantes em nenhuma das variáveis. Vamos checar com a função *describe()*:"
      ]
    },
    {
      "cell_type": "code",
      "metadata": {
        "id": "6euNdQtZqHFW",
        "colab": {
          "base_uri": "https://localhost:8080/",
          "height": 288
        },
        "outputId": "bf4e55d4-e971-48aa-ec2c-350e2a27fe91"
      },
      "source": [
        "data.describe()"
      ],
      "execution_count": null,
      "outputs": [
        {
          "output_type": "execute_result",
          "data": {
            "text/html": [
              "<div>\n",
              "<style scoped>\n",
              "    .dataframe tbody tr th:only-of-type {\n",
              "        vertical-align: middle;\n",
              "    }\n",
              "\n",
              "    .dataframe tbody tr th {\n",
              "        vertical-align: top;\n",
              "    }\n",
              "\n",
              "    .dataframe thead th {\n",
              "        text-align: right;\n",
              "    }\n",
              "</style>\n",
              "<table border=\"1\" class=\"dataframe\">\n",
              "  <thead>\n",
              "    <tr style=\"text-align: right;\">\n",
              "      <th></th>\n",
              "      <th>CustomerID</th>\n",
              "      <th>Genre</th>\n",
              "      <th>Age</th>\n",
              "      <th>Annual Income (k$)</th>\n",
              "      <th>Spending Score (1-100)</th>\n",
              "    </tr>\n",
              "  </thead>\n",
              "  <tbody>\n",
              "    <tr>\n",
              "      <th>count</th>\n",
              "      <td>200.000000</td>\n",
              "      <td>200.000000</td>\n",
              "      <td>200.000000</td>\n",
              "      <td>200.000000</td>\n",
              "      <td>200.000000</td>\n",
              "    </tr>\n",
              "    <tr>\n",
              "      <th>mean</th>\n",
              "      <td>100.500000</td>\n",
              "      <td>0.560000</td>\n",
              "      <td>38.850000</td>\n",
              "      <td>60.560000</td>\n",
              "      <td>50.200000</td>\n",
              "    </tr>\n",
              "    <tr>\n",
              "      <th>std</th>\n",
              "      <td>57.879185</td>\n",
              "      <td>0.497633</td>\n",
              "      <td>13.969007</td>\n",
              "      <td>26.264721</td>\n",
              "      <td>25.823522</td>\n",
              "    </tr>\n",
              "    <tr>\n",
              "      <th>min</th>\n",
              "      <td>1.000000</td>\n",
              "      <td>0.000000</td>\n",
              "      <td>18.000000</td>\n",
              "      <td>15.000000</td>\n",
              "      <td>1.000000</td>\n",
              "    </tr>\n",
              "    <tr>\n",
              "      <th>25%</th>\n",
              "      <td>50.750000</td>\n",
              "      <td>0.000000</td>\n",
              "      <td>28.750000</td>\n",
              "      <td>41.500000</td>\n",
              "      <td>34.750000</td>\n",
              "    </tr>\n",
              "    <tr>\n",
              "      <th>50%</th>\n",
              "      <td>100.500000</td>\n",
              "      <td>1.000000</td>\n",
              "      <td>36.000000</td>\n",
              "      <td>61.500000</td>\n",
              "      <td>50.000000</td>\n",
              "    </tr>\n",
              "    <tr>\n",
              "      <th>75%</th>\n",
              "      <td>150.250000</td>\n",
              "      <td>1.000000</td>\n",
              "      <td>49.000000</td>\n",
              "      <td>78.000000</td>\n",
              "      <td>73.000000</td>\n",
              "    </tr>\n",
              "    <tr>\n",
              "      <th>max</th>\n",
              "      <td>200.000000</td>\n",
              "      <td>1.000000</td>\n",
              "      <td>70.000000</td>\n",
              "      <td>137.000000</td>\n",
              "      <td>99.000000</td>\n",
              "    </tr>\n",
              "  </tbody>\n",
              "</table>\n",
              "</div>"
            ],
            "text/plain": [
              "       CustomerID       Genre  ...  Annual Income (k$)  Spending Score (1-100)\n",
              "count  200.000000  200.000000  ...          200.000000              200.000000\n",
              "mean   100.500000    0.560000  ...           60.560000               50.200000\n",
              "std     57.879185    0.497633  ...           26.264721               25.823522\n",
              "min      1.000000    0.000000  ...           15.000000                1.000000\n",
              "25%     50.750000    0.000000  ...           41.500000               34.750000\n",
              "50%    100.500000    1.000000  ...           61.500000               50.000000\n",
              "75%    150.250000    1.000000  ...           78.000000               73.000000\n",
              "max    200.000000    1.000000  ...          137.000000               99.000000\n",
              "\n",
              "[8 rows x 5 columns]"
            ]
          },
          "metadata": {
            "tags": []
          },
          "execution_count": 8
        }
      ]
    },
    {
      "cell_type": "markdown",
      "metadata": {
        "id": "Z4VCeWhGqHFp"
      },
      "source": [
        "É possível ver que todas as variáveis têm \"count\" igual a 200, que é o número de linhas na base, então não temos valores faltantes, dado que o dataset está bem formatado e poderíamos fazer a identificação deste maneira. Criando nossa base auxiliar somente com as variáveis de interesse:"
      ]
    },
    {
      "cell_type": "code",
      "metadata": {
        "id": "wzBTdBbkqHFt"
      },
      "source": [
        "temp=data.copy(deep=True)\n",
        "\n",
        "temp.drop([\"CustomerID\"], axis=1, inplace= True)\n",
        "temp.drop([\"Genre\"], axis=1, inplace= True)"
      ],
      "execution_count": null,
      "outputs": []
    },
    {
      "cell_type": "markdown",
      "metadata": {
        "id": "4KQfJx-SqHF2"
      },
      "source": [
        "Antes de realizar o agrupamente, faremos uma normalização nos dados, pois dados com escalas diferentes podem influenciar/viesar nossos resultados. Para isso, utilizaremos a normalização entre 0 e 1 (maior valor assume 1 enquanto o menor valor assume 0):"
      ]
    },
    {
      "cell_type": "code",
      "metadata": {
        "id": "aOhcf-KIqHF4"
      },
      "source": [
        "scaler = MinMaxScaler()\n",
        "temp = scaler.fit_transform(temp) "
      ],
      "execution_count": null,
      "outputs": []
    },
    {
      "cell_type": "markdown",
      "metadata": {
        "id": "OxdKJ3vpqHGE"
      },
      "source": [
        "Perceba que aqui não fizemos uma divisão entre base de treino e teste, pois não é muito comum agir dessa maneira quando nosso fim é o agrupamento, mesmo que existam algumas abordagens em que isso possa ser feito. Uma maneira de sabermos mais ou menos como nossos dados podem se agrupar é utilizando a técnica TSNE, que é uma técnica de redução de dimensionalidade. Diferentemente do PCA, esta técnica foi criada com o intuito de se manter a estrutura de distâncias presentes nos dados originais. Sendo assim, ela consegue manter muito bem a estrutura de agrupamento entre os indivíduos. Vamos utilizar esta técnica somente para tentar visualizar, em duas dimensões, como nosso modelo *K-Means* provavelmente fará as divisões de clusters:"
      ]
    },
    {
      "cell_type": "code",
      "metadata": {
        "id": "EZdtR9HQqHGF",
        "colab": {
          "base_uri": "https://localhost:8080/",
          "height": 265
        },
        "outputId": "89201048-0921-4d69-97fb-495a477d489b"
      },
      "source": [
        "tsne = TSNE(n_components=2, random_state=42).fit_transform(temp)\n",
        "\n",
        "plt.plot(tsne[:,0],tsne[:,1], 'bo')\n",
        "plt.show()"
      ],
      "execution_count": null,
      "outputs": [
        {
          "output_type": "display_data",
          "data": {
            "image/png": "[encoded data removed]",
            "text/plain": [
              "<Figure size 432x288 with 1 Axes>"
            ]
          },
          "metadata": {
            "tags": [],
            "needs_background": "light"
          }
        }
      ]
    },
    {
      "cell_type": "markdown",
      "metadata": {
        "id": "VydMqB2cqHGJ"
      },
      "source": [
        "Na figura acima é possível ver que há algumas maneiras de se agrupar os indivíduos, sendo elas mais ou menos claras. \n",
        "\n",
        "Agora vamos passar da etapa mais visual de identificação para a parte algoritmica, que é quando vamos identificar clusters nos nossos dados com o auxílio do modelo K-Means. Como todo modelo de Machine Learning, o K-Means tenta minimizar alguma função de erro dado o número de clusters $K$ escolhido pelo cientista de dados, ou seja, $K$ é um hiperparâmetro. A função de erro em questão se chama WCSS (Within Cluster Sum of Squares) e ela nos dá uma a soma dos erros quadráticos cometidos por cada indivíduo de cada um dos clusters. \n",
        "\n",
        "Para ficar mais claro, vamos de exemplo. Suponha que em nossos dados tenhamos dois clusters, como na figura abaixo:"
      ]
    },
    {
      "cell_type": "code",
      "metadata": {
        "id": "rkxbd1GtqHGK",
        "colab": {
          "base_uri": "https://localhost:8080/",
          "height": 265
        },
        "outputId": "535e17c8-72ff-43da-872c-b1fad8fc497a"
      },
      "source": [
        "X, y = make_blobs(n_samples=300, centers=2, n_features=2, random_state=42)\n",
        "\n",
        "plt.scatter(X[:,0],X[:,1])\n",
        "plt.show()"
      ],
      "execution_count": null,
      "outputs": [
        {
          "output_type": "display_data",
          "data": {
            "image/png": "[encoded data removed]",
            "text/plain": [
              "<Figure size 432x288 with 1 Axes>"
            ]
          },
          "metadata": {
            "tags": [],
            "needs_background": "light"
          }
        }
      ]
    },
    {
      "cell_type": "markdown",
      "metadata": {
        "id": "z_PANe5hqHGP"
      },
      "source": [
        "É visível a divisão que pode ser feita, vamos fazê-la então:"
      ]
    },
    {
      "cell_type": "code",
      "metadata": {
        "id": "gpnXCeX9qHGP",
        "colab": {
          "base_uri": "https://localhost:8080/",
          "height": 265
        },
        "outputId": "7af0c5c0-57aa-40f1-928c-cfd868752a3b"
      },
      "source": [
        "plt.scatter(X[:,0],X[:,1], c = y)\n",
        "plt.show()"
      ],
      "execution_count": null,
      "outputs": [
        {
          "output_type": "display_data",
          "data": {
            "image/png": "[encoded data removed]",
            "text/plain": [
              "<Figure size 432x288 with 1 Axes>"
            ]
          },
          "metadata": {
            "tags": [],
            "needs_background": "light"
          }
        }
      ]
    },
    {
      "cell_type": "markdown",
      "metadata": {
        "id": "MlSqKmOCqHGT"
      },
      "source": [
        "O primeiro passo para computar o erro WCSS é achar o centro (centróide) de cada um dos clusters. Vamos chamar o cluster da esqueda de cluster 0 e o cluster de direita de cluster 1 e agora vamos calcular seus centros (centróides), que são dados pelas médias de todos os pontos que fazem parte daquele cluster:"
      ]
    },
    {
      "cell_type": "code",
      "metadata": {
        "id": "Jh_SbtR9qHGU",
        "colab": {
          "base_uri": "https://localhost:8080/"
        },
        "outputId": "d0f5bbac-5fa6-4427-cbe9-b76094f83efd"
      },
      "source": [
        "c0=np.mean(X[y==0], axis=0)\n",
        "c1=np.mean(X[y==1], axis=0)\n",
        "\n",
        "c0, c1"
      ],
      "execution_count": null,
      "outputs": [
        {
          "output_type": "execute_result",
          "data": {
            "text/plain": [
              "(array([-2.55143224,  9.02835242]), array([4.66375945, 1.92025297]))"
            ]
          },
          "metadata": {
            "tags": []
          },
          "execution_count": 14
        }
      ]
    },
    {
      "cell_type": "markdown",
      "metadata": {
        "id": "CfIle01NqHGZ"
      },
      "source": [
        "Para calcular o erro WCSS basta calcular a distância euclidiana ao quadrado entre todos os pontos e o seu repectivo centróide e somar tudo. A distância euclidiana, e o seu quadrado, entre um ponto $x=(x_1,x_2)$ e outro ponto $y=(y_1,y_2)$ são dadas pelas seguintes fórmulas:\n",
        "\n",
        "\\begin{equation}\n",
        "d(x,y)=\\sqrt{(x_1-y_1)^2+(x_2-y_2)^2} \\Rightarrow d^2(x,y)=(x_1-y_1)^2+(x_2-y_2)^2\n",
        "\\end{equation}\n",
        "\n",
        "Vamos calcular o erro WCSS para esse nosso exemplo:\n"
      ]
    },
    {
      "cell_type": "code",
      "metadata": {
        "id": "ZR4Au_OJqHGZ",
        "colab": {
          "base_uri": "https://localhost:8080/"
        },
        "outputId": "6984300c-8d02-492f-fbd7-3acde04586fd"
      },
      "source": [
        "WCSS0=np.sum((X[y==0]-c0)**2)\n",
        "WCSS1=np.sum((X[y==1]-c1)**2)\n",
        "\n",
        "WCSS=WCSS0+WCSS1\n",
        "\n",
        "print(\"O erro WCSS cometido pela clusterização do exemplo é\", WCSS)"
      ],
      "execution_count": null,
      "outputs": [
        {
          "output_type": "stream",
          "text": [
            "O erro WCSS cometido pela clusterização do exemplo é 566.4678820515289\n"
          ],
          "name": "stdout"
        }
      ]
    },
    {
      "cell_type": "markdown",
      "metadata": {
        "id": "6fCc_KiPqHGf"
      },
      "source": [
        "Perceba que na conta acima, calculei o erro WCSS para cada cluster separadamente e depois somei tudo. Essa configuração de cluster que criamos é a que minimiza o erro WCSS dada a quantidade de 2 clusters. Vamos fazer algumas mudanças em $y$ para você ver uma configuração de cluster que não é boa - vamos forçar os 50 primeiros indivíduos a serem do cluster 0 e os 50 últimos a serem do cluster 1:"
      ]
    },
    {
      "cell_type": "code",
      "metadata": {
        "id": "KsCjeFSMqHGh"
      },
      "source": [
        "y[:50]=0\n",
        "y[250:]=1"
      ],
      "execution_count": null,
      "outputs": []
    },
    {
      "cell_type": "markdown",
      "metadata": {
        "id": "hjBe6oJ8qHGp"
      },
      "source": [
        "Vamos plotar novamente os clusters:"
      ]
    },
    {
      "cell_type": "code",
      "metadata": {
        "id": "kJZGBisTqHGq",
        "colab": {
          "base_uri": "https://localhost:8080/",
          "height": 265
        },
        "outputId": "544264b6-a331-42d7-c792-2e5e85b3d2e8"
      },
      "source": [
        "plt.scatter(X[:,0],X[:,1], c = y)\n",
        "plt.show()"
      ],
      "execution_count": null,
      "outputs": [
        {
          "output_type": "display_data",
          "data": {
            "image/png": "[encoded data removed]",
            "text/plain": [
              "<Figure size 432x288 with 1 Axes>"
            ]
          },
          "metadata": {
            "tags": [],
            "needs_background": "light"
          }
        }
      ]
    },
    {
      "cell_type": "markdown",
      "metadata": {
        "id": "hrjeJyrtqHGw"
      },
      "source": [
        "Parece que a divisão feita agora não foi muito inteligente. Vamos verificar isso pelo erro WCSS:"
      ]
    },
    {
      "cell_type": "code",
      "metadata": {
        "id": "ouxeOPhmqHGx",
        "colab": {
          "base_uri": "https://localhost:8080/"
        },
        "outputId": "f3d66a4a-3161-418a-a994-f88fa0c42540"
      },
      "source": [
        "c0=np.mean(X[y==0], axis=0)\n",
        "c1=np.mean(X[y==1], axis=0)\n",
        "\n",
        "WCSS0=np.sum((X[y==0]-c0)**2)\n",
        "WCSS1=np.sum((X[y==1]-c1)**2)\n",
        "\n",
        "WCSS=WCSS0+WCSS1\n",
        "\n",
        "print(\"O erro WSCC cometido pela clusterização do exemplo é\", WCSS)"
      ],
      "execution_count": null,
      "outputs": [
        {
          "output_type": "stream",
          "text": [
            "O erro WSCC cometido pela clusterização do exemplo é 5001.656163458907\n"
          ],
          "name": "stdout"
        }
      ]
    },
    {
      "cell_type": "markdown",
      "metadata": {
        "id": "ums5htMBqHG1"
      },
      "source": [
        "É possível ver que se a divisão não for bem feita, e erro tende a ser muito alto. Para a aplicação do modelo K-Means, basta dizer quantos clusters você quer encontrar nos dados e ele fará uma divisão de forma a minimizar o erro WCSS (nem sempre ele chega na melhor divisão possível, mas quase sempre chega a um resultado satisfatório). No exemplo acima já começamos com o vetor $y$ que indicava a que cluster pertencia o indivíduo, mas na vida real, começaremos somente com $X$ e o modelo K-Means nos retornará $y$. A clusterização pega dados sem rótulos e rotula cada um de seus indivíduos da seguinte maneira:"
      ]
    },
    {
      "cell_type": "code",
      "metadata": {
        "id": "uxuoYJX4qHG2",
        "colab": {
          "base_uri": "https://localhost:8080/",
          "height": 321
        },
        "outputId": "f6eb0e51-6a49-493d-9ded-63736e8de4f8"
      },
      "source": [
        "Image(url= \"https://raw.githubusercontent.com/felipemaiapolo/datagirls_clustering_2020/main/p7.png\", width=700, height=300)"
      ],
      "execution_count": null,
      "outputs": [
        {
          "output_type": "execute_result",
          "data": {
            "text/html": [
              "<img src=\"https://raw.githubusercontent.com/felipemaiapolo/datagirls_clustering_2020/main/p7.png\" width=\"700\" height=\"300\"/>"
            ],
            "text/plain": [
              "<IPython.core.display.Image object>"
            ]
          },
          "metadata": {
            "tags": []
          },
          "execution_count": 19
        }
      ]
    },
    {
      "cell_type": "markdown",
      "metadata": {
        "id": "Yj1obwSPqHG7"
      },
      "source": [
        "Adaptado de: https://cdn-images-1.medium.com/max/1600/1*tWaaZX75oumVwBMcKN-eHA.png\n",
        "\n",
        "Agora vamos aplicar o modelo K-Means para achar exatamente 3 clusters em nossos dados (só para teste):"
      ]
    },
    {
      "cell_type": "code",
      "metadata": {
        "id": "QJWpfp1QqHG8"
      },
      "source": [
        "kmeans = KMeans(n_clusters = 3, random_state=42)\n",
        "kmeans.fit(temp)\n",
        "\n",
        "cluster_labels = kmeans.predict(temp) #Pegando os rótulos"
      ],
      "execution_count": null,
      "outputs": []
    },
    {
      "cell_type": "markdown",
      "metadata": {
        "id": "XTHAMdPvqHHB"
      },
      "source": [
        "Agora que já dividimos nossa base em dois clusters, vamos fazer a visualização com as variáveis geradas pelo TSNE:"
      ]
    },
    {
      "cell_type": "code",
      "metadata": {
        "id": "I9QLucFWqHHC",
        "colab": {
          "base_uri": "https://localhost:8080/",
          "height": 281
        },
        "outputId": "49d5e30f-9470-4352-b974-baa271346b3d"
      },
      "source": [
        "plt.scatter(tsne[:,0], tsne[:,1], c = kmeans.labels_)\n",
        "plt.title('Visualização dos Clusters em duas dimensões (TSNE)')\n",
        "\n",
        "plt.show()"
      ],
      "execution_count": null,
      "outputs": [
        {
          "output_type": "display_data",
          "data": {
            "image/png": "[encoded data removed]",
            "text/plain": [
              "<Figure size 432x288 with 1 Axes>"
            ]
          },
          "metadata": {
            "tags": [],
            "needs_background": "light"
          }
        }
      ]
    },
    {
      "cell_type": "markdown",
      "metadata": {
        "id": "45D3QgWVqHHJ"
      },
      "source": [
        "Com três clusters conseguimos um resultado razoável. Mas como fazer a otimização do número de clusters!? Existe a medida de se chama Silhueta Média (https://en.wikipedia.org/wiki/Silhouette_(clustering)). Essa medida varia de -1 a 1 e quanto mais próximo de 1, mais coesos serão os clusters formados. Vamos rodar o K-Means para vários números de clusters e descobrir qual aquele com a melhor Silhueta Média:"
      ]
    },
    {
      "cell_type": "code",
      "metadata": {
        "id": "36i9xuo7qHHK",
        "colab": {
          "base_uri": "https://localhost:8080/",
          "height": 295
        },
        "outputId": "72459804-1f15-4a05-cd04-aa118d96748b"
      },
      "source": [
        "sill = []\n",
        "\n",
        "for i in range(2, 20):\n",
        "    kmeans = KMeans(n_clusters = i, random_state=0)\n",
        "    kmeans.fit(temp)\n",
        "    cluster_labels = kmeans.predict(temp)\n",
        "\n",
        "    sill.append(silhouette_score(temp, cluster_labels))\n",
        "    \n",
        "plt.plot(range(2, 20), sill)\n",
        "plt.title('O Método da Silhueta')\n",
        "plt.xlabel('Número de Clusters')\n",
        "plt.ylabel('Silhueta média') \n",
        "plt.show()"
      ],
      "execution_count": null,
      "outputs": [
        {
          "output_type": "display_data",
          "data": {
            "image/png": "[encoded data removed]",
            "text/plain": [
              "<Figure size 432x288 with 1 Axes>"
            ]
          },
          "metadata": {
            "tags": [],
            "needs_background": "light"
          }
        }
      ]
    },
    {
      "cell_type": "markdown",
      "metadata": {
        "id": "a37DTFuGqHHN"
      },
      "source": [
        "É possível ver que o número de Clusters que maximiza a silhueta média é de 9 clusters, **MAS** perceba que o valor da silhueta média não difere significantemente de quando temos 6 clusters. Como sempre tentamos optar pelo modelo mais simples e que traga uma boa representação da realidade, vamos optar por ficar com 6 clusters ao invés de 9, mesmo que $K=6$ não maximize a silhueta média em nossos dados - veja que o resultado é muito parecido e que não valeria a pena tornar o modelo ainda mais complexo. Veja que esse é um julgamento muito subjetivo e só reforça a ideia de que quem decide no final do dia número de clusters é o cientista de dados e não o computador - é importante também descrever cada um dos clusters formados, checando se o resultado faz algum sentido teórico. Descrever os clusters e tentar contar uma história com base nos dados também deve te ajudar a escolher o número de clusters que serão formados. Preste atenção que quando estamos trabalhando com aprendizado não-supervisionado, a avaliação do modelo é um pouco mais complicada e menos objetiva. Vamos então formar 6 clusters:"
      ]
    },
    {
      "cell_type": "code",
      "metadata": {
        "id": "EuXlBNjZqHHO",
        "colab": {
          "base_uri": "https://localhost:8080/",
          "height": 281
        },
        "outputId": "f8beb18b-7ae0-4ef7-af6d-6b48fbc38f6b"
      },
      "source": [
        "n_clust = 6\n",
        "\n",
        "kmeans = KMeans(n_clusters = n_clust, random_state=0)\n",
        "kmeans.fit(temp)\n",
        "\n",
        "plt.scatter(tsne[:,0], tsne[:,1], c = kmeans.labels_)\n",
        "plt.title('Visualização dos Clusters em duas dimensões (TSNE)')\n",
        "\n",
        "plt.show()"
      ],
      "execution_count": null,
      "outputs": [
        {
          "output_type": "display_data",
          "data": {
            "image/png": "[encoded data removed]",
            "text/plain": [
              "<Figure size 432x288 with 1 Axes>"
            ]
          },
          "metadata": {
            "tags": [],
            "needs_background": "light"
          }
        }
      ]
    },
    {
      "cell_type": "markdown",
      "metadata": {
        "id": "MlzVrSewZyfB"
      },
      "source": [
        "Dentre os 6 clusters formados, quais os mais coesos?\n",
        "\n",
        "Vamos calcular a silhueta média para cada um dos grupos e diremos que aqueles que retornarem os maiores valores são os 'melhores clusters':"
      ]
    },
    {
      "cell_type": "code",
      "metadata": {
        "id": "BPuMoNifXjPc",
        "colab": {
          "base_uri": "https://localhost:8080/"
        },
        "outputId": "b4a17548-4695-4f18-acd6-5c0d412a20d1"
      },
      "source": [
        "silhouettes = silhouette_samples(temp, kmeans.labels_)\n",
        "\n",
        "for k in range(n_clust):\n",
        "  print(\"Silhueta Média para Cluster {:}: {:.2f} +- {:.2f}\".format(k, \n",
        "                                                                   np.mean(silhouettes[kmeans.labels_==k]),\n",
        "                                                                   np.std(silhouettes[kmeans.labels_==k]/np.sum(kmeans.labels_==k)**.5)))"
      ],
      "execution_count": null,
      "outputs": [
        {
          "output_type": "stream",
          "text": [
            "Silhueta Média para Cluster 0: 0.53 +- 0.03\n",
            "Silhueta Média para Cluster 1: 0.48 +- 0.02\n",
            "Silhueta Média para Cluster 2: 0.33 +- 0.03\n",
            "Silhueta Média para Cluster 3: 0.32 +- 0.03\n",
            "Silhueta Média para Cluster 4: 0.52 +- 0.02\n",
            "Silhueta Média para Cluster 5: 0.32 +- 0.03\n"
          ],
          "name": "stdout"
        }
      ]
    },
    {
      "cell_type": "markdown",
      "metadata": {
        "id": "Xcp7E0-eqHHV"
      },
      "source": [
        "Agora nos resta descrever os clusters com base em suas características. Vamos aqui descrever dois dos clusters formados, o 0 e o 1:"
      ]
    },
    {
      "cell_type": "code",
      "metadata": {
        "id": "jcMJDjgXqHHW"
      },
      "source": [
        "labels = pd.DataFrame(kmeans.predict(temp))\n",
        "labels.columns = ['Cluster'] \n",
        "\n",
        "data=pd.merge(data,labels, left_index=True, right_index=True)"
      ],
      "execution_count": null,
      "outputs": []
    },
    {
      "cell_type": "markdown",
      "metadata": {
        "id": "zTMXmpC9qHHb"
      },
      "source": [
        "Descrevendo o Cluster 0:"
      ]
    },
    {
      "cell_type": "code",
      "metadata": {
        "id": "vH0gcHAuqHHc",
        "colab": {
          "base_uri": "https://localhost:8080/",
          "height": 288
        },
        "outputId": "15f4fd11-cd9b-4303-8b79-8ed9dcd34ffb"
      },
      "source": [
        "data[data.loc[:,\"Cluster\"]==0].describe()"
      ],
      "execution_count": null,
      "outputs": [
        {
          "output_type": "execute_result",
          "data": {
            "text/html": [
              "<div>\n",
              "<style scoped>\n",
              "    .dataframe tbody tr th:only-of-type {\n",
              "        vertical-align: middle;\n",
              "    }\n",
              "\n",
              "    .dataframe tbody tr th {\n",
              "        vertical-align: top;\n",
              "    }\n",
              "\n",
              "    .dataframe thead th {\n",
              "        text-align: right;\n",
              "    }\n",
              "</style>\n",
              "<table border=\"1\" class=\"dataframe\">\n",
              "  <thead>\n",
              "    <tr style=\"text-align: right;\">\n",
              "      <th></th>\n",
              "      <th>CustomerID</th>\n",
              "      <th>Genre</th>\n",
              "      <th>Age</th>\n",
              "      <th>Annual Income (k$)</th>\n",
              "      <th>Spending Score (1-100)</th>\n",
              "      <th>Cluster</th>\n",
              "    </tr>\n",
              "  </thead>\n",
              "  <tbody>\n",
              "    <tr>\n",
              "      <th>count</th>\n",
              "      <td>22.000000</td>\n",
              "      <td>22.000000</td>\n",
              "      <td>22.000000</td>\n",
              "      <td>22.000000</td>\n",
              "      <td>22.000000</td>\n",
              "      <td>22.0</td>\n",
              "    </tr>\n",
              "    <tr>\n",
              "      <th>mean</th>\n",
              "      <td>23.090909</td>\n",
              "      <td>0.590909</td>\n",
              "      <td>25.272727</td>\n",
              "      <td>25.727273</td>\n",
              "      <td>79.363636</td>\n",
              "      <td>0.0</td>\n",
              "    </tr>\n",
              "    <tr>\n",
              "      <th>std</th>\n",
              "      <td>13.147185</td>\n",
              "      <td>0.503236</td>\n",
              "      <td>5.257030</td>\n",
              "      <td>7.566731</td>\n",
              "      <td>10.504174</td>\n",
              "      <td>0.0</td>\n",
              "    </tr>\n",
              "    <tr>\n",
              "      <th>min</th>\n",
              "      <td>2.000000</td>\n",
              "      <td>0.000000</td>\n",
              "      <td>18.000000</td>\n",
              "      <td>15.000000</td>\n",
              "      <td>61.000000</td>\n",
              "      <td>0.0</td>\n",
              "    </tr>\n",
              "    <tr>\n",
              "      <th>25%</th>\n",
              "      <td>12.500000</td>\n",
              "      <td>0.000000</td>\n",
              "      <td>21.250000</td>\n",
              "      <td>19.250000</td>\n",
              "      <td>73.000000</td>\n",
              "      <td>0.0</td>\n",
              "    </tr>\n",
              "    <tr>\n",
              "      <th>50%</th>\n",
              "      <td>23.000000</td>\n",
              "      <td>1.000000</td>\n",
              "      <td>23.500000</td>\n",
              "      <td>24.500000</td>\n",
              "      <td>77.000000</td>\n",
              "      <td>0.0</td>\n",
              "    </tr>\n",
              "    <tr>\n",
              "      <th>75%</th>\n",
              "      <td>33.500000</td>\n",
              "      <td>1.000000</td>\n",
              "      <td>29.750000</td>\n",
              "      <td>32.250000</td>\n",
              "      <td>85.750000</td>\n",
              "      <td>0.0</td>\n",
              "    </tr>\n",
              "    <tr>\n",
              "      <th>max</th>\n",
              "      <td>46.000000</td>\n",
              "      <td>1.000000</td>\n",
              "      <td>35.000000</td>\n",
              "      <td>39.000000</td>\n",
              "      <td>99.000000</td>\n",
              "      <td>0.0</td>\n",
              "    </tr>\n",
              "  </tbody>\n",
              "</table>\n",
              "</div>"
            ],
            "text/plain": [
              "       CustomerID      Genre  ...  Spending Score (1-100)  Cluster\n",
              "count   22.000000  22.000000  ...               22.000000     22.0\n",
              "mean    23.090909   0.590909  ...               79.363636      0.0\n",
              "std     13.147185   0.503236  ...               10.504174      0.0\n",
              "min      2.000000   0.000000  ...               61.000000      0.0\n",
              "25%     12.500000   0.000000  ...               73.000000      0.0\n",
              "50%     23.000000   1.000000  ...               77.000000      0.0\n",
              "75%     33.500000   1.000000  ...               85.750000      0.0\n",
              "max     46.000000   1.000000  ...               99.000000      0.0\n",
              "\n",
              "[8 rows x 6 columns]"
            ]
          },
          "metadata": {
            "tags": []
          },
          "execution_count": 27
        }
      ]
    },
    {
      "cell_type": "markdown",
      "metadata": {
        "id": "3pFyUCf3qHHg"
      },
      "source": [
        "Descrevendo o Cluster 1:\n"
      ]
    },
    {
      "cell_type": "code",
      "metadata": {
        "id": "eutw6MOEqHHh",
        "colab": {
          "base_uri": "https://localhost:8080/",
          "height": 288
        },
        "outputId": "2111db47-0d3a-4e94-b96b-585a6bd8d5ed"
      },
      "source": [
        "data[data.loc[:,\"Cluster\"]==1].describe()"
      ],
      "execution_count": null,
      "outputs": [
        {
          "output_type": "execute_result",
          "data": {
            "text/html": [
              "<div>\n",
              "<style scoped>\n",
              "    .dataframe tbody tr th:only-of-type {\n",
              "        vertical-align: middle;\n",
              "    }\n",
              "\n",
              "    .dataframe tbody tr th {\n",
              "        vertical-align: top;\n",
              "    }\n",
              "\n",
              "    .dataframe thead th {\n",
              "        text-align: right;\n",
              "    }\n",
              "</style>\n",
              "<table border=\"1\" class=\"dataframe\">\n",
              "  <thead>\n",
              "    <tr style=\"text-align: right;\">\n",
              "      <th></th>\n",
              "      <th>CustomerID</th>\n",
              "      <th>Genre</th>\n",
              "      <th>Age</th>\n",
              "      <th>Annual Income (k$)</th>\n",
              "      <th>Spending Score (1-100)</th>\n",
              "      <th>Cluster</th>\n",
              "    </tr>\n",
              "  </thead>\n",
              "  <tbody>\n",
              "    <tr>\n",
              "      <th>count</th>\n",
              "      <td>45.000000</td>\n",
              "      <td>45.000000</td>\n",
              "      <td>45.000000</td>\n",
              "      <td>45.000000</td>\n",
              "      <td>45.000000</td>\n",
              "      <td>45.0</td>\n",
              "    </tr>\n",
              "    <tr>\n",
              "      <th>mean</th>\n",
              "      <td>83.777778</td>\n",
              "      <td>0.577778</td>\n",
              "      <td>56.333333</td>\n",
              "      <td>54.266667</td>\n",
              "      <td>49.066667</td>\n",
              "      <td>1.0</td>\n",
              "    </tr>\n",
              "    <tr>\n",
              "      <th>std</th>\n",
              "      <td>24.911561</td>\n",
              "      <td>0.499495</td>\n",
              "      <td>8.453079</td>\n",
              "      <td>8.975725</td>\n",
              "      <td>6.300794</td>\n",
              "      <td>0.0</td>\n",
              "    </tr>\n",
              "    <tr>\n",
              "      <th>min</th>\n",
              "      <td>41.000000</td>\n",
              "      <td>0.000000</td>\n",
              "      <td>43.000000</td>\n",
              "      <td>38.000000</td>\n",
              "      <td>35.000000</td>\n",
              "      <td>1.0</td>\n",
              "    </tr>\n",
              "    <tr>\n",
              "      <th>25%</th>\n",
              "      <td>64.000000</td>\n",
              "      <td>0.000000</td>\n",
              "      <td>49.000000</td>\n",
              "      <td>47.000000</td>\n",
              "      <td>45.000000</td>\n",
              "      <td>1.0</td>\n",
              "    </tr>\n",
              "    <tr>\n",
              "      <th>50%</th>\n",
              "      <td>81.000000</td>\n",
              "      <td>1.000000</td>\n",
              "      <td>54.000000</td>\n",
              "      <td>54.000000</td>\n",
              "      <td>49.000000</td>\n",
              "      <td>1.0</td>\n",
              "    </tr>\n",
              "    <tr>\n",
              "      <th>75%</th>\n",
              "      <td>103.000000</td>\n",
              "      <td>1.000000</td>\n",
              "      <td>65.000000</td>\n",
              "      <td>62.000000</td>\n",
              "      <td>55.000000</td>\n",
              "      <td>1.0</td>\n",
              "    </tr>\n",
              "    <tr>\n",
              "      <th>max</th>\n",
              "      <td>161.000000</td>\n",
              "      <td>1.000000</td>\n",
              "      <td>70.000000</td>\n",
              "      <td>79.000000</td>\n",
              "      <td>60.000000</td>\n",
              "      <td>1.0</td>\n",
              "    </tr>\n",
              "  </tbody>\n",
              "</table>\n",
              "</div>"
            ],
            "text/plain": [
              "       CustomerID      Genre  ...  Spending Score (1-100)  Cluster\n",
              "count   45.000000  45.000000  ...               45.000000     45.0\n",
              "mean    83.777778   0.577778  ...               49.066667      1.0\n",
              "std     24.911561   0.499495  ...                6.300794      0.0\n",
              "min     41.000000   0.000000  ...               35.000000      1.0\n",
              "25%     64.000000   0.000000  ...               45.000000      1.0\n",
              "50%     81.000000   1.000000  ...               49.000000      1.0\n",
              "75%    103.000000   1.000000  ...               55.000000      1.0\n",
              "max    161.000000   1.000000  ...               60.000000      1.0\n",
              "\n",
              "[8 rows x 6 columns]"
            ]
          },
          "metadata": {
            "tags": []
          },
          "execution_count": 28
        }
      ]
    },
    {
      "cell_type": "markdown",
      "metadata": {
        "id": "9C_rV_sDqHHm"
      },
      "source": [
        "### Exercício 1: quais são as maiores diferenças entre os dois clusters acima? Tente olhar não só para a média.\n",
        "\n",
        "### Exercício 2: crie uma persona para cada um dos clusters."
      ]
    }
  ]
}
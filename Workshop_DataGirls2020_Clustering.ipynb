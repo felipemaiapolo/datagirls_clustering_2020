{
  "nbformat": 4,
  "nbformat_minor": 0,
  "metadata": {
    "kernelspec": {
      "display_name": "Python 3",
      "language": "python",
      "name": "python3"
    },
    "language_info": {
      "codemirror_mode": {
        "name": "ipython",
        "version": 3
      },
      "file_extension": ".py",
      "mimetype": "text/x-python",
      "name": "python",
      "nbconvert_exporter": "python",
      "pygments_lexer": "ipython3",
      "version": "3.7.3"
    },
    "colab": {
      "name": "Workshop_DataGirls2020_Clustering.ipynb",
      "provenance": [],
      "collapsed_sections": [],
      "include_colab_link": true
    }
  },
  "cells": [
    {
      "cell_type": "markdown",
      "metadata": {
        "id": "view-in-github",
        "colab_type": "text"
      },
      "source": [
        "<a href=\"https://colab.research.google.com/github/felipemaiapolo/datagirls_clustering_2020/blob/main/Workshop_DataGirls2020_Clustering.ipynb\" target=\"_parent\"><img src=\"https://colab.research.google.com/assets/colab-badge.svg\" alt=\"Open In Colab\"/></a>"
      ]
    },
    {
      "cell_type": "markdown",
      "metadata": {
        "id": "JpY7chB4qHD6"
      },
      "source": [
        "# Workshop Data Girls 2020: Clustering \n",
        "\n",
        "\n",
        "**Autor:** Felipe Maia Polo - Fundador e ex-presidente do Neuron - *Data science and Artificial Intelligence*, economista pela USP e mestrando em Estatística pela mesma instituição. Apaixonado por matemática, estatística e *data science*.\n",
        "\n",
        "**Contato:** felipemaiapolo@gmail.com - https://www.linkedin.com/in/felipemaiapolo/\n",
        "\n",
        "**Feedback:** https://forms.gle/U6yBVSYwxNRWaE15A\n",
        "\n",
        "**Sugestões de leitura**\n",
        "\n",
        "1. **Probabilidade:** Ross, S. (2014). A first course in probability. Pearson.\n",
        "2. **Probabilidade e Estatística:** Morettin, P. A., & BUSSAB, W. O. (2017). Estatística básica. Editora Saraiva.\n",
        "3. **Análise de Regressão (linear & logística):** Wooldridge, J. M. (2015). Introductory econometrics: A modern approach. Nelson Education.\n",
        "4. **Machine Learning:** James, G., Witten, D., Hastie, T., & Tibshirani, R. (2013). An introduction to statistical learning (Vol. 112, p. 18). New York: springer."
      ]
    },
    {
      "cell_type": "markdown",
      "metadata": {
        "id": "Ok2wjJ1-qHEW"
      },
      "source": [
        "Nos momentos em que falamos em *Machine Learning* até agora, excluindo a parte do PCA, focamos nossos esforços para o entedimentos das técnicas de Aprendizado Supervisionado, que é quando temos uma variável resposta $Y$ e queremos que a máquina aprenda uma função $f(.)$ que nos ajude a prever $Y$ com base em uma matriz de atributos (*features*) $X$. Por exemplo, quando queríamos prever o preços dos imóveis, $Y$ era o preço (já dado em nossa base), $X$ era uma matriz com as informações de cada imóvel (uma linha por imóvel, sendo que as colunas eram os atributos) e $f(.)$ uma função regressora, ou regressor, estimada por uma Rede Neural. Já no caso das consultas médicas, $Y$ era uma variável indicadora (0 ou 1) que nos dizia se o paciente foi ou não à consulta, $X$ eram atributos tanto do paciente quanto do agendamento e $f(.)$, mais uma vez, uma função classificadora, ou simplesmente classificador, aprendida por uma Rede Neural. \n",
        "\n",
        "Perceba que quando utilizamos a técnica dos Componentes Principais para a redução de dimensionalidade, não existia nenhuma variável \"$Y$\" que gostaríamos de prever - tudo o que dispunhamos era $X$, sendo que queríamos representar essa matriz em uma menor dimensão. Pelo motivo de não existir uma variável de interesse \"$Y$\" ao aplicar este modelo, dizemos que o PCA é uma técnica de aprendizado não-supervisionada. Nesta parte do curso, vamos ver uma outra técnica para redução de dimensionalidade e focar nossas atenções na técnica $K-Means$, um modelo muito importante e que é capaz de descobrir estruturas escondidas nos dados. Essa técnica é um modelo de clusterização, ou segmentação, e é utilizada para agruparmos indivíduos diferentes em nossa base de dados. Mas por que isso é importante? É importante pois poderemos entender melhor nossos clientes e nos direcionar mais objetivamente a cada um dos grupos. \n",
        "\n",
        "A partir de agora vamos trabalhar com uma base de dados de clientes de um shopping. Essa base de dados foi retirada do Kaggle (https://www.kaggle.com/vjchoudhary7/customer-segmentation-tutorial-in-python), conta com 200 clientes, sendo que temos 4 características de cada um deles dada pelas variáveis:\n",
        "\n",
        "1. **CustomerID**: ID único de cada cliente\n",
        "2. **Gender**: Gênero (Feminino ou Masculino)\n",
        "3. **Age**: Idade do cliente\n",
        "4. **Annual Income**: Renda anual do cliente (em mil dólares)\n",
        "5. **Spending Score (1-100)**: Pontuação criada pelo shopping com base nos comportamentos de consumo\n",
        "\n",
        "Vamos aos trabalhos!? Vamos começar chamando os pacotes que utilizaremos:"
      ]
    },
    {
      "cell_type": "code",
      "metadata": {
        "id": "4iZLBqUGqHEa"
      },
      "source": [
        "import pandas as pd\n",
        "import numpy as np\n",
        "import requests\n",
        "import io\n",
        "\n",
        "from sklearn.cluster import KMeans \n",
        "from sklearn.metrics import  silhouette_score\n",
        "\n",
        "from IPython.display import Image\n",
        "from IPython.core.display import HTML \n",
        "\n",
        "import matplotlib.pyplot as plt "
      ],
      "execution_count": 5,
      "outputs": []
    },
    {
      "cell_type": "markdown",
      "metadata": {
        "id": "SE5IDjjCqHEz"
      },
      "source": [
        "Abrindo a base de dados:"
      ]
    },
    {
      "cell_type": "code",
      "metadata": {
        "id": "RZFYfT9jqHE0"
      },
      "source": [
        "download = requests.get(\"https://raw.githubusercontent.com/felipemaiapolo/datagirls_clustering_2020/main/shoppingdata.csv\").content\n",
        "data = pd.read_csv(io.StringIO(download.decode('utf-8')), sep=',')"
      ],
      "execution_count": 14,
      "outputs": []
    },
    {
      "cell_type": "markdown",
      "metadata": {
        "id": "w8gO2otmqHE5"
      },
      "source": [
        "Checando o formato da base de dados:"
      ]
    },
    {
      "cell_type": "code",
      "metadata": {
        "id": "5yfVDhTFqHE7",
        "outputId": "4399d664-9e57-4f84-b247-e715ec302033",
        "colab": {
          "base_uri": "https://localhost:8080/"
        }
      },
      "source": [
        "data.shape"
      ],
      "execution_count": 15,
      "outputs": [
        {
          "output_type": "execute_result",
          "data": {
            "text/plain": [
              "(200, 5)"
            ]
          },
          "metadata": {
            "tags": []
          },
          "execution_count": 15
        }
      ]
    },
    {
      "cell_type": "markdown",
      "metadata": {
        "id": "DG3mWTTfqHFA"
      },
      "source": [
        "Checando os dados com *.head()*:"
      ]
    },
    {
      "cell_type": "code",
      "metadata": {
        "id": "0mbf02OjuSPO",
        "outputId": "4e406dd1-8981-47ff-d54f-5c757bd5cbd3",
        "colab": {
          "base_uri": "https://localhost:8080/"
        }
      },
      "source": [
        "n=3\n",
        "k=10\n",
        "\n",
        "k*((n**2-n)/2 + n)\n"
      ],
      "execution_count": 18,
      "outputs": [
        {
          "output_type": "execute_result",
          "data": {
            "text/plain": [
              "60.0"
            ]
          },
          "metadata": {
            "tags": []
          },
          "execution_count": 18
        }
      ]
    },
    {
      "cell_type": "code",
      "metadata": {
        "id": "UgCfiPs5qHFB",
        "outputId": "804bd8cc-3506-4488-e614-a9278cad9058",
        "colab": {
          "base_uri": "https://localhost:8080/",
          "height": 198
        }
      },
      "source": [
        "data.head()"
      ],
      "execution_count": 16,
      "outputs": [
        {
          "output_type": "execute_result",
          "data": {
            "text/html": [
              "<div>\n",
              "<style scoped>\n",
              "    .dataframe tbody tr th:only-of-type {\n",
              "        vertical-align: middle;\n",
              "    }\n",
              "\n",
              "    .dataframe tbody tr th {\n",
              "        vertical-align: top;\n",
              "    }\n",
              "\n",
              "    .dataframe thead th {\n",
              "        text-align: right;\n",
              "    }\n",
              "</style>\n",
              "<table border=\"1\" class=\"dataframe\">\n",
              "  <thead>\n",
              "    <tr style=\"text-align: right;\">\n",
              "      <th></th>\n",
              "      <th>CustomerID</th>\n",
              "      <th>Genre</th>\n",
              "      <th>Age</th>\n",
              "      <th>Annual Income (k$)</th>\n",
              "      <th>Spending Score (1-100)</th>\n",
              "    </tr>\n",
              "  </thead>\n",
              "  <tbody>\n",
              "    <tr>\n",
              "      <th>0</th>\n",
              "      <td>1</td>\n",
              "      <td>Male</td>\n",
              "      <td>19</td>\n",
              "      <td>15</td>\n",
              "      <td>39</td>\n",
              "    </tr>\n",
              "    <tr>\n",
              "      <th>1</th>\n",
              "      <td>2</td>\n",
              "      <td>Male</td>\n",
              "      <td>21</td>\n",
              "      <td>15</td>\n",
              "      <td>81</td>\n",
              "    </tr>\n",
              "    <tr>\n",
              "      <th>2</th>\n",
              "      <td>3</td>\n",
              "      <td>Female</td>\n",
              "      <td>20</td>\n",
              "      <td>16</td>\n",
              "      <td>6</td>\n",
              "    </tr>\n",
              "    <tr>\n",
              "      <th>3</th>\n",
              "      <td>4</td>\n",
              "      <td>Female</td>\n",
              "      <td>23</td>\n",
              "      <td>16</td>\n",
              "      <td>77</td>\n",
              "    </tr>\n",
              "    <tr>\n",
              "      <th>4</th>\n",
              "      <td>5</td>\n",
              "      <td>Female</td>\n",
              "      <td>31</td>\n",
              "      <td>17</td>\n",
              "      <td>40</td>\n",
              "    </tr>\n",
              "  </tbody>\n",
              "</table>\n",
              "</div>"
            ],
            "text/plain": [
              "   CustomerID   Genre  Age  Annual Income (k$)  Spending Score (1-100)\n",
              "0           1    Male   19                  15                      39\n",
              "1           2    Male   21                  15                      81\n",
              "2           3  Female   20                  16                       6\n",
              "3           4  Female   23                  16                      77\n",
              "4           5  Female   31                  17                      40"
            ]
          },
          "metadata": {
            "tags": []
          },
          "execution_count": 16
        }
      ]
    },
    {
      "cell_type": "markdown",
      "metadata": {
        "id": "8saMc49RqHFM"
      },
      "source": [
        "Para facilitar a manipulação da nossa base de dados, vamos transformar a variável Gênero em binária, sendo que o gênero feminino será representado por 1 e o masculino por 0:"
      ]
    },
    {
      "cell_type": "code",
      "metadata": {
        "id": "k6OfJRYXqHFP",
        "outputId": "36d26bc4-8bc7-430e-fea7-366a92c8b843"
      },
      "source": [
        "def genero(x):\n",
        "    if x == 'Female':\n",
        "        return 1\n",
        "    else:\n",
        "        return 0\n",
        "    \n",
        "data['Genre'] = data['Genre'].apply(genero)\n",
        "data.head()"
      ],
      "execution_count": null,
      "outputs": [
        {
          "output_type": "execute_result",
          "data": {
            "text/html": [
              "<div>\n",
              "<style scoped>\n",
              "    .dataframe tbody tr th:only-of-type {\n",
              "        vertical-align: middle;\n",
              "    }\n",
              "\n",
              "    .dataframe tbody tr th {\n",
              "        vertical-align: top;\n",
              "    }\n",
              "\n",
              "    .dataframe thead th {\n",
              "        text-align: right;\n",
              "    }\n",
              "</style>\n",
              "<table border=\"1\" class=\"dataframe\">\n",
              "  <thead>\n",
              "    <tr style=\"text-align: right;\">\n",
              "      <th></th>\n",
              "      <th>CustomerID</th>\n",
              "      <th>Genre</th>\n",
              "      <th>Age</th>\n",
              "      <th>Annual Income (k$)</th>\n",
              "      <th>Spending Score (1-100)</th>\n",
              "    </tr>\n",
              "  </thead>\n",
              "  <tbody>\n",
              "    <tr>\n",
              "      <th>0</th>\n",
              "      <td>1</td>\n",
              "      <td>0</td>\n",
              "      <td>19</td>\n",
              "      <td>15</td>\n",
              "      <td>39</td>\n",
              "    </tr>\n",
              "    <tr>\n",
              "      <th>1</th>\n",
              "      <td>2</td>\n",
              "      <td>0</td>\n",
              "      <td>21</td>\n",
              "      <td>15</td>\n",
              "      <td>81</td>\n",
              "    </tr>\n",
              "    <tr>\n",
              "      <th>2</th>\n",
              "      <td>3</td>\n",
              "      <td>1</td>\n",
              "      <td>20</td>\n",
              "      <td>16</td>\n",
              "      <td>6</td>\n",
              "    </tr>\n",
              "    <tr>\n",
              "      <th>3</th>\n",
              "      <td>4</td>\n",
              "      <td>1</td>\n",
              "      <td>23</td>\n",
              "      <td>16</td>\n",
              "      <td>77</td>\n",
              "    </tr>\n",
              "    <tr>\n",
              "      <th>4</th>\n",
              "      <td>5</td>\n",
              "      <td>1</td>\n",
              "      <td>31</td>\n",
              "      <td>17</td>\n",
              "      <td>40</td>\n",
              "    </tr>\n",
              "  </tbody>\n",
              "</table>\n",
              "</div>"
            ],
            "text/plain": [
              "   CustomerID  Genre  Age  Annual Income (k$)  Spending Score (1-100)\n",
              "0           1      0   19                  15                      39\n",
              "1           2      0   21                  15                      81\n",
              "2           3      1   20                  16                       6\n",
              "3           4      1   23                  16                      77\n",
              "4           5      1   31                  17                      40"
            ]
          },
          "metadata": {
            "tags": []
          },
          "execution_count": 5
        }
      ]
    },
    {
      "cell_type": "markdown",
      "metadata": {
        "id": "QtycKD_HqHFU"
      },
      "source": [
        "O modelo de agrupamento (K-Means) que utilizaremos funciona bem somente com variáveis quantitativas, então não utilizaremos a variável de gênero para realizar o agrupamento - deixarei alguns links caso queiram utilizar variáveis qualitativas no agrupamento:\n",
        "\n",
        "1. https://www.quora.com/Can-a-binary-categorical-variable-be-used-in-K-means-clustering\n",
        "2. https://www-01.ibm.com/support/docview.wss?uid=swg21477401\n",
        "3. https://stats.stackexchange.com/questions/130974/how-to-use-both-binary-and-continuous-variables-together-in-clustering\n",
        "\n",
        "Como não utilizaremos nem a variável de gênero e nem a variável de Id no momento do agrupamento, vamos criar uma base de dados auxiliar somente com as variáveis que queremos. Preste atenção que este momento é **muito** importante, pois devemos verificar se alguma das variáveis que utilizaremos tem valores faltantes e, se tiverem, deveremos manter somente aqueles indivíduos que não têm valores faltantes em nenhuma das variáveis. Vamos checar com a função *describe()*:"
      ]
    },
    {
      "cell_type": "code",
      "metadata": {
        "id": "6euNdQtZqHFW",
        "outputId": "d9bb1333-93f9-42c0-b19e-4c9091fc724f"
      },
      "source": [
        "data.describe()"
      ],
      "execution_count": null,
      "outputs": [
        {
          "output_type": "execute_result",
          "data": {
            "text/html": [
              "<div>\n",
              "<style scoped>\n",
              "    .dataframe tbody tr th:only-of-type {\n",
              "        vertical-align: middle;\n",
              "    }\n",
              "\n",
              "    .dataframe tbody tr th {\n",
              "        vertical-align: top;\n",
              "    }\n",
              "\n",
              "    .dataframe thead th {\n",
              "        text-align: right;\n",
              "    }\n",
              "</style>\n",
              "<table border=\"1\" class=\"dataframe\">\n",
              "  <thead>\n",
              "    <tr style=\"text-align: right;\">\n",
              "      <th></th>\n",
              "      <th>CustomerID</th>\n",
              "      <th>Genre</th>\n",
              "      <th>Age</th>\n",
              "      <th>Annual Income (k$)</th>\n",
              "      <th>Spending Score (1-100)</th>\n",
              "    </tr>\n",
              "  </thead>\n",
              "  <tbody>\n",
              "    <tr>\n",
              "      <th>count</th>\n",
              "      <td>200.000000</td>\n",
              "      <td>200.000000</td>\n",
              "      <td>200.000000</td>\n",
              "      <td>200.000000</td>\n",
              "      <td>200.000000</td>\n",
              "    </tr>\n",
              "    <tr>\n",
              "      <th>mean</th>\n",
              "      <td>100.500000</td>\n",
              "      <td>0.560000</td>\n",
              "      <td>38.850000</td>\n",
              "      <td>60.560000</td>\n",
              "      <td>50.200000</td>\n",
              "    </tr>\n",
              "    <tr>\n",
              "      <th>std</th>\n",
              "      <td>57.879185</td>\n",
              "      <td>0.497633</td>\n",
              "      <td>13.969007</td>\n",
              "      <td>26.264721</td>\n",
              "      <td>25.823522</td>\n",
              "    </tr>\n",
              "    <tr>\n",
              "      <th>min</th>\n",
              "      <td>1.000000</td>\n",
              "      <td>0.000000</td>\n",
              "      <td>18.000000</td>\n",
              "      <td>15.000000</td>\n",
              "      <td>1.000000</td>\n",
              "    </tr>\n",
              "    <tr>\n",
              "      <th>25%</th>\n",
              "      <td>50.750000</td>\n",
              "      <td>0.000000</td>\n",
              "      <td>28.750000</td>\n",
              "      <td>41.500000</td>\n",
              "      <td>34.750000</td>\n",
              "    </tr>\n",
              "    <tr>\n",
              "      <th>50%</th>\n",
              "      <td>100.500000</td>\n",
              "      <td>1.000000</td>\n",
              "      <td>36.000000</td>\n",
              "      <td>61.500000</td>\n",
              "      <td>50.000000</td>\n",
              "    </tr>\n",
              "    <tr>\n",
              "      <th>75%</th>\n",
              "      <td>150.250000</td>\n",
              "      <td>1.000000</td>\n",
              "      <td>49.000000</td>\n",
              "      <td>78.000000</td>\n",
              "      <td>73.000000</td>\n",
              "    </tr>\n",
              "    <tr>\n",
              "      <th>max</th>\n",
              "      <td>200.000000</td>\n",
              "      <td>1.000000</td>\n",
              "      <td>70.000000</td>\n",
              "      <td>137.000000</td>\n",
              "      <td>99.000000</td>\n",
              "    </tr>\n",
              "  </tbody>\n",
              "</table>\n",
              "</div>"
            ],
            "text/plain": [
              "       CustomerID       Genre         Age  Annual Income (k$)  \\\n",
              "count  200.000000  200.000000  200.000000          200.000000   \n",
              "mean   100.500000    0.560000   38.850000           60.560000   \n",
              "std     57.879185    0.497633   13.969007           26.264721   \n",
              "min      1.000000    0.000000   18.000000           15.000000   \n",
              "25%     50.750000    0.000000   28.750000           41.500000   \n",
              "50%    100.500000    1.000000   36.000000           61.500000   \n",
              "75%    150.250000    1.000000   49.000000           78.000000   \n",
              "max    200.000000    1.000000   70.000000          137.000000   \n",
              "\n",
              "       Spending Score (1-100)  \n",
              "count              200.000000  \n",
              "mean                50.200000  \n",
              "std                 25.823522  \n",
              "min                  1.000000  \n",
              "25%                 34.750000  \n",
              "50%                 50.000000  \n",
              "75%                 73.000000  \n",
              "max                 99.000000  "
            ]
          },
          "metadata": {
            "tags": []
          },
          "execution_count": 6
        }
      ]
    },
    {
      "cell_type": "markdown",
      "metadata": {
        "id": "Z4VCeWhGqHFp"
      },
      "source": [
        "É possível ver que todas as variáveis têm \"count\" igual a 200, que é o número de linhas na base, então não temos valores faltantes, dado que o dataset está bem formatado e poderíamos fazer a identificação deste maneira. Criando nossa base auxiliar somente com as variáveis de interesse:"
      ]
    },
    {
      "cell_type": "code",
      "metadata": {
        "id": "wzBTdBbkqHFt"
      },
      "source": [
        "temp=data.copy(deep=True)\n",
        "\n",
        "temp.drop([\"CustomerID\"],axis=1,inplace= True)\n",
        "temp.drop([\"Genre\"],axis=1,inplace= True)"
      ],
      "execution_count": null,
      "outputs": []
    },
    {
      "cell_type": "markdown",
      "metadata": {
        "id": "4KQfJx-SqHF2"
      },
      "source": [
        "Antes de realizar o agrupamente, faremos uma normalização nos dados, pois dados com escalas diferentes podem influenciar/viesar nossos resultados. Para isso, utilizaremos a normalização entre 0 e 1, que já foi vista:"
      ]
    },
    {
      "cell_type": "code",
      "metadata": {
        "id": "aOhcf-KIqHF4"
      },
      "source": [
        "from sklearn.preprocessing import MinMaxScaler\n",
        "\n",
        "scaler = MinMaxScaler()\n",
        "scaler.fit(temp) \n",
        "\n",
        "#transformando\n",
        "temp=scaler.transform(temp) "
      ],
      "execution_count": null,
      "outputs": []
    },
    {
      "cell_type": "markdown",
      "metadata": {
        "id": "OxdKJ3vpqHGE"
      },
      "source": [
        "Perceba que aqui não fizemos uma divisão entre base de treino e teste, pois não é muito comum agir dessa maneira quando nosso fim é o agrupamento, mesmo que existam algumas abordagens em que isso possa ser feito. Uma maneira de sabermos mais ou menos como nossos dados podem se agrupar é utilizando a técnica TSNE, que é uma técnica de redução de dimensionalidade. Diferentemente do PCA, esta técnica foi criada com o intuito de se manter a estrutura de distâncias presentes nos dados originais. Sendo assim, ela consegue manter muito bem a estrutura de agrupamento entre os indivíduos. Vamos utilizar esta técnica somente para tentar visualizar, em duas dimensões, como nosso modelo *K-Means* provavelmente fará as divisões de clusters:"
      ]
    },
    {
      "cell_type": "code",
      "metadata": {
        "id": "EZdtR9HQqHGF",
        "outputId": "607d648d-0f65-450f-fd13-4a5ba195fd72"
      },
      "source": [
        "import numpy as np\n",
        "from sklearn.manifold import TSNE\n",
        "\n",
        "tsne = TSNE(n_components=2, random_state=42).fit_transform(temp)\n",
        "\n",
        "plt.plot(tsne[:,0],tsne[:,1], 'bo')\n",
        "plt.show()"
      ],
      "execution_count": null,
      "outputs": [
        {
          "output_type": "display_data",
          "data": {
            "image/png": "[encoded data removed]",
            "text/plain": [
              "<matplotlib.figure.Figure at 0x7f62a0ff3780>"
            ]
          },
          "metadata": {
            "tags": []
          }
        }
      ]
    },
    {
      "cell_type": "markdown",
      "metadata": {
        "id": "VydMqB2cqHGJ"
      },
      "source": [
        "Na figura acima é possível ver que há algumas maneiras de se agrupar os indivíduos, sendo elas mais ou menos claras. \n",
        "\n",
        "Agora vamos passar da etapa mais visual de identificação para a parte algoritmica, que é quando vamos identificar clusters nos nossos dados com o auxílio do modelo K-Means. Como todo modelo de Machine Learning, o K-Means tenta minimizar alguma função de erro dado o número de clusters $K$ escolhido pelo cientista de dados, ou seja, $K$ é um hiperparâmetro. A função de erro em questão se chama WCSS (Within Cluster Sum of Squares) e ela nos dá uma a soma dos erros quadráticos cometidos por cada indivíduo de cada um dos clusters. \n",
        "\n",
        "Para ficar mais claro, vamos de exemplo. Suponha que em nossos dados tenhamos dois clusters, como na figura abaixo:"
      ]
    },
    {
      "cell_type": "code",
      "metadata": {
        "id": "rkxbd1GtqHGK",
        "outputId": "c91e20ee-a037-4c11-fe65-ea83988ab98c"
      },
      "source": [
        "from sklearn.datasets.samples_generator import make_blobs\n",
        "                            \n",
        "X, y = make_blobs(n_samples=300, centers=2, n_features=2, random_state=42)\n",
        "\n",
        "plt.scatter(X[:,0],X[:,1])\n",
        "plt.show()"
      ],
      "execution_count": null,
      "outputs": [
        {
          "output_type": "display_data",
          "data": {
            "image/png": "[encoded data removed]",
            "text/plain": [
              "<matplotlib.figure.Figure at 0x7f62a103de10>"
            ]
          },
          "metadata": {
            "tags": []
          }
        }
      ]
    },
    {
      "cell_type": "markdown",
      "metadata": {
        "id": "z_PANe5hqHGP"
      },
      "source": [
        "É visível a divisão que pode ser feita, vamos fazê-la então:"
      ]
    },
    {
      "cell_type": "code",
      "metadata": {
        "id": "gpnXCeX9qHGP",
        "outputId": "45706412-b4f3-4d96-f193-18e95494c5dc"
      },
      "source": [
        "plt.scatter(X[:,0],X[:,1], c = y)\n",
        "plt.show()"
      ],
      "execution_count": null,
      "outputs": [
        {
          "output_type": "display_data",
          "data": {
            "image/png": "[encoded data removed]",
            "text/plain": [
              "<matplotlib.figure.Figure at 0x7f629e3d0c50>"
            ]
          },
          "metadata": {
            "tags": []
          }
        }
      ]
    },
    {
      "cell_type": "markdown",
      "metadata": {
        "id": "MlSqKmOCqHGT"
      },
      "source": [
        "O primeiro passo para computar o erro WCSS é achar o centro (centróide) de cada um dos clusters. Vamos chamar o cluster da esqueda de cluster 0 e o cluster de direita de cluster 1 e agora vamos calcular seus centros (centróides), que são dados pelas médias de todos os pontos que fazem parte daquele cluster:"
      ]
    },
    {
      "cell_type": "code",
      "metadata": {
        "id": "Jh_SbtR9qHGU",
        "outputId": "8e361b8e-7f2c-45a8-f75e-f20f33de505c"
      },
      "source": [
        "c0=np.mean(X[y==0], axis=0)\n",
        "c1=np.mean(X[y==1], axis=0)\n",
        "\n",
        "c0,c1"
      ],
      "execution_count": null,
      "outputs": [
        {
          "output_type": "execute_result",
          "data": {
            "text/plain": [
              "(array([-2.55143224,  9.02835242]), array([4.66375945, 1.92025297]))"
            ]
          },
          "metadata": {
            "tags": []
          },
          "execution_count": 13
        }
      ]
    },
    {
      "cell_type": "markdown",
      "metadata": {
        "id": "CfIle01NqHGZ"
      },
      "source": [
        "Para calcular o erro WCSS basta calcular a distância euclidiana ao quadrado entre todos os pontos e o seu repectivo centróide e somar tudo. A distância euclidiana, e o seu quadrado, entre um ponto $x=(x_1,x_2)$ e outro ponto $y=(y_1,y_2)$ são dadas pelas seguintes fórmulas:\n",
        "\n",
        "\\begin{equation}\n",
        "d(x,y)=\\sqrt{(x_1-y_1)^2+(x_2-y_2)^2} \\Rightarrow d^2(x,y)=(x_1-y_1)^2+(x_2-y_2)^2\n",
        "\\end{equation}\n",
        "\n",
        "Vamos calcular o erro WCSS para esse nosso exemplo:\n"
      ]
    },
    {
      "cell_type": "code",
      "metadata": {
        "id": "ZR4Au_OJqHGZ",
        "outputId": "e9778a63-8a5e-4663-8c29-87f11f8c9182"
      },
      "source": [
        "WCSS0=np.sum((X[y==0]-c0)**2)\n",
        "WCSS1=np.sum((X[y==1]-c1)**2)\n",
        "\n",
        "WCSS=WCSS0+WCSS1\n",
        "\n",
        "print(\"O erro WCSS cometido pela clusterização do exemplo é \", WCSS)"
      ],
      "execution_count": null,
      "outputs": [
        {
          "output_type": "stream",
          "text": [
            "O erro WCSS cometido pela clusterização do exemplo é  566.4678820515289\n"
          ],
          "name": "stdout"
        }
      ]
    },
    {
      "cell_type": "markdown",
      "metadata": {
        "id": "6fCc_KiPqHGf"
      },
      "source": [
        "Perceba que na conta acima, calculei o erro WCSS para cada cluster separadamente e depois somei tudo. Essa configuração de cluster que criamos é a que minimiza o erro WCSS dada a quantidade de 2 clusters. Vamos fazer algumas mudanças em $y$ para você ver uma configuração de cluster que não é boa - vamos forçar os 50 primeiros indivíduos a serem do cluster 0 e os 50 últimos a serem do cluster 1:"
      ]
    },
    {
      "cell_type": "code",
      "metadata": {
        "id": "KsCjeFSMqHGh"
      },
      "source": [
        "y[:50]=0\n",
        "y[250:]=1"
      ],
      "execution_count": null,
      "outputs": []
    },
    {
      "cell_type": "markdown",
      "metadata": {
        "id": "hjBe6oJ8qHGp"
      },
      "source": [
        "Vamos plotar novamente os clusters:"
      ]
    },
    {
      "cell_type": "code",
      "metadata": {
        "id": "kJZGBisTqHGq",
        "outputId": "3c8be4d0-c4db-4b08-fa25-e44b7604f9dd"
      },
      "source": [
        "plt.scatter(X[:,0],X[:,1], c = y)\n",
        "plt.show()"
      ],
      "execution_count": null,
      "outputs": [
        {
          "output_type": "display_data",
          "data": {
            "image/png": "[encoded data removed]",
            "text/plain": [
              "<matplotlib.figure.Figure at 0x7f629e18fa58>"
            ]
          },
          "metadata": {
            "tags": []
          }
        }
      ]
    },
    {
      "cell_type": "markdown",
      "metadata": {
        "id": "hrjeJyrtqHGw"
      },
      "source": [
        "Parece que a divisão feita agora não foi muito inteligente. Vamos verificar isso pelo erro WCSS:"
      ]
    },
    {
      "cell_type": "code",
      "metadata": {
        "id": "ouxeOPhmqHGx",
        "outputId": "ee6a9490-8808-49df-9419-06393d8f2e60"
      },
      "source": [
        "c0=np.mean(X[y==0], axis=0)\n",
        "c1=np.mean(X[y==1], axis=0)\n",
        "\n",
        "WCSS0=np.sum((X[y==0]-c0)**2)\n",
        "WCSS1=np.sum((X[y==1]-c1)**2)\n",
        "\n",
        "WCSS=WCSS0+WCSS1\n",
        "\n",
        "print(\"O erro WSCC cometido pela clusterização do exemplo é \", WCSS)"
      ],
      "execution_count": null,
      "outputs": [
        {
          "output_type": "stream",
          "text": [
            "O erro WSCC cometido pela clusterização do exemplo é  5001.656163458907\n"
          ],
          "name": "stdout"
        }
      ]
    },
    {
      "cell_type": "markdown",
      "metadata": {
        "id": "ums5htMBqHG1"
      },
      "source": [
        "É possível ver que se a divisão não for bem feita, e erro tende a ser muito alto. Para a aplicação do modelo K-Means, basta dizer quantos clusters você quer encontrar nos dados e ele fará uma divisão de forma a minimizar o erro WCSS (nem sempre ele chega na melhor divisão possível, mas quase sempre chega a um resultado satisfatório). No exemplo acima já começamos com o vetor $y$ que indicava a que cluster pertencia o indivíduo, mas na vida real, começaremos somente com $X$ e o modelo K-Means nos retornará $y$. A clusterização pega dados sem rótulos e rotula cada um de seus indivíduos da seguinte maneira:"
      ]
    },
    {
      "cell_type": "code",
      "metadata": {
        "id": "uxuoYJX4qHG2",
        "outputId": "c58ee014-9255-4950-b229-3692b487d665",
        "colab": {
          "base_uri": "https://localhost:8080/",
          "height": 321
        }
      },
      "source": [
        "Image(url= \"https://raw.githubusercontent.com/felipemaiapolo/datagirls_clustering_2020/main/p7.png\", width=700, height=300)"
      ],
      "execution_count": 19,
      "outputs": [
        {
          "output_type": "execute_result",
          "data": {
            "text/html": [
              "<img src=\"https://raw.githubusercontent.com/felipemaiapolo/datagirls_clustering_2020/main/p7.png\" width=\"700\" height=\"300\"/>"
            ],
            "text/plain": [
              "<IPython.core.display.Image object>"
            ]
          },
          "metadata": {
            "tags": []
          },
          "execution_count": 19
        }
      ]
    },
    {
      "cell_type": "markdown",
      "metadata": {
        "id": "Yj1obwSPqHG7"
      },
      "source": [
        "Adaptado de: https://cdn-images-1.medium.com/max/1600/1*tWaaZX75oumVwBMcKN-eHA.png\n",
        "\n",
        "Agora vamos aplicar o modelo K-Means para achar exatamente 3 clusters em nossos dados (só para teste):"
      ]
    },
    {
      "cell_type": "code",
      "metadata": {
        "id": "QJWpfp1QqHG8"
      },
      "source": [
        "kmeans = KMeans(n_clusters = 3, random_state=42)\n",
        "kmeans.fit(temp)\n",
        "\n",
        "cluster_labels = kmeans.predict(temp) #Pegando os rótulos"
      ],
      "execution_count": null,
      "outputs": []
    },
    {
      "cell_type": "markdown",
      "metadata": {
        "id": "XTHAMdPvqHHB"
      },
      "source": [
        "Agora que já dividimos nossa base em dois clusters, vamos fazer a visualização com as variáveis geradas pelo TSNE:"
      ]
    },
    {
      "cell_type": "code",
      "metadata": {
        "id": "I9QLucFWqHHC",
        "outputId": "b2d633d9-c94f-4677-a4d8-b142ba78482c"
      },
      "source": [
        "plt.scatter(tsne[:,0], tsne[:,1], c = kmeans.labels_)\n",
        "plt.title('Visualização dos Clusters em duas dimensões (TSNE)')\n",
        "\n",
        "plt.show()"
      ],
      "execution_count": null,
      "outputs": [
        {
          "output_type": "display_data",
          "data": {
            "image/png": "[encoded data removed]",
            "text/plain": [
              "<matplotlib.figure.Figure at 0x7f629e138c88>"
            ]
          },
          "metadata": {
            "tags": []
          }
        }
      ]
    },
    {
      "cell_type": "markdown",
      "metadata": {
        "id": "45D3QgWVqHHJ"
      },
      "source": [
        "Com três clusters conseguimos um resultado razoável. Mas como fazer a otimização do número de clusters!? Existe a medida de se chama Silhueta Média (https://en.wikipedia.org/wiki/Silhouette_(clustering)). Essa medida varia de -1 a 1 e quanto mais próximo de 1, mais coesos serão os clusters formados. Vamos rodar o K-Means para vários números de clusters e descobrir qual aquele com a melhor Silhueta Média:"
      ]
    },
    {
      "cell_type": "code",
      "metadata": {
        "id": "36i9xuo7qHHK",
        "outputId": "63821e6e-cc7c-444c-ddca-3bc277978e94"
      },
      "source": [
        "sill = []\n",
        "\n",
        "for i in range(2, 15):\n",
        "    kmeans = KMeans(n_clusters = i, random_state=0)\n",
        "    kmeans.fit(temp)\n",
        "    cluster_labels = kmeans.predict(temp)\n",
        "\n",
        "    sill.append(silhouette_score(temp, cluster_labels))\n",
        "    \n",
        "plt.plot(range(2, 15), sill)\n",
        "plt.title('O Método da Silhueta')\n",
        "plt.xlabel('Némero de Clusters')\n",
        "plt.ylabel('Silhueta média') \n",
        "plt.show()"
      ],
      "execution_count": null,
      "outputs": [
        {
          "output_type": "display_data",
          "data": {
            "image/png": "[encoded data removed]",
            "text/plain": [
              "<matplotlib.figure.Figure at 0x7f629e0fd278>"
            ]
          },
          "metadata": {
            "tags": []
          }
        }
      ]
    },
    {
      "cell_type": "markdown",
      "metadata": {
        "id": "a37DTFuGqHHN"
      },
      "source": [
        "É possível ver que o número de Clusters que maximiza a silhueta média é de 9 clusters, **MAS** perceba que o valor da silhueta média não difere significantemente de quando temos 6 clusters. Como sempre tentamos optar pelo modelo mais simples e que traga uma boa representação da realidade, vamos optar por ficar com 6 clusters ao invés de 9, mesmo que $K=6$ não maximize a silhueta média em nossos dados - veja que o resultado é muito parecido e que não valeria a pena tornar o modelo ainda mais complexo. Veja que esse é um julgamento muito subjetivo e só reforça a ideia de que quem decide no final do dia número de clusters é o cientista de dados e não o computador - é importante também descrever cada um dos clusters formados, checando se o resultado faz algum sentido teórico. Descrever os clusters e tentar contar uma história com base nos dados também deve te ajudar a escolher o número de clusters que serão formados. Preste atenção que quando estamos trabalhando com aprendizado não-supervisionado, a avaliação do modelo é um pouco mais complicada e menos objetiva. Vamos então formar 6 clusters:"
      ]
    },
    {
      "cell_type": "code",
      "metadata": {
        "id": "EuXlBNjZqHHO",
        "outputId": "16c7be0f-43a4-4ed4-e8aa-f51d3ac3529b"
      },
      "source": [
        "kmeans = KMeans(n_clusters = 6, random_state=0)\n",
        "kmeans.fit(temp)\n",
        "\n",
        "plt.scatter(tsne[:,0], tsne[:,1], c = kmeans.labels_)\n",
        "plt.title('Visualização dos Clusters em duas dimensões (TSNE)')\n",
        "\n",
        "plt.show()"
      ],
      "execution_count": null,
      "outputs": [
        {
          "output_type": "display_data",
          "data": {
            "image/png": "[encoded data removed]",
            "text/plain": [
              "<matplotlib.figure.Figure at 0x7f629e3dc9e8>"
            ]
          },
          "metadata": {
            "tags": []
          }
        }
      ]
    },
    {
      "cell_type": "markdown",
      "metadata": {
        "id": "Xcp7E0-eqHHV"
      },
      "source": [
        "Agora nos resta descrever os clusters com base em suas características. Vamos aqui descrever dois dos clusters formados, o 0 e o 1:"
      ]
    },
    {
      "cell_type": "code",
      "metadata": {
        "id": "jcMJDjgXqHHW"
      },
      "source": [
        "labels = pd.DataFrame(kmeans.predict(temp))\n",
        "labels.columns = ['Cluster'] \n",
        "\n",
        "data=pd.merge(data,labels, left_index=True, right_index=True)"
      ],
      "execution_count": null,
      "outputs": []
    },
    {
      "cell_type": "markdown",
      "metadata": {
        "id": "zTMXmpC9qHHb"
      },
      "source": [
        "Descrevendo o Cluster 0:"
      ]
    },
    {
      "cell_type": "code",
      "metadata": {
        "id": "vH0gcHAuqHHc",
        "outputId": "7befa315-eeca-452b-a0cc-157d5eab71de"
      },
      "source": [
        "data[data.loc[:,\"Cluster\"]==0].describe()"
      ],
      "execution_count": null,
      "outputs": [
        {
          "output_type": "execute_result",
          "data": {
            "text/html": [
              "<div>\n",
              "<style scoped>\n",
              "    .dataframe tbody tr th:only-of-type {\n",
              "        vertical-align: middle;\n",
              "    }\n",
              "\n",
              "    .dataframe tbody tr th {\n",
              "        vertical-align: top;\n",
              "    }\n",
              "\n",
              "    .dataframe thead th {\n",
              "        text-align: right;\n",
              "    }\n",
              "</style>\n",
              "<table border=\"1\" class=\"dataframe\">\n",
              "  <thead>\n",
              "    <tr style=\"text-align: right;\">\n",
              "      <th></th>\n",
              "      <th>CustomerID</th>\n",
              "      <th>Genre</th>\n",
              "      <th>Age</th>\n",
              "      <th>Annual Income (k$)</th>\n",
              "      <th>Spending Score (1-100)</th>\n",
              "      <th>Cluster</th>\n",
              "    </tr>\n",
              "  </thead>\n",
              "  <tbody>\n",
              "    <tr>\n",
              "      <th>count</th>\n",
              "      <td>31.000000</td>\n",
              "      <td>31.000000</td>\n",
              "      <td>31.000000</td>\n",
              "      <td>31.000000</td>\n",
              "      <td>31.000000</td>\n",
              "      <td>31.0</td>\n",
              "    </tr>\n",
              "    <tr>\n",
              "      <th>mean</th>\n",
              "      <td>166.354839</td>\n",
              "      <td>0.451613</td>\n",
              "      <td>43.387097</td>\n",
              "      <td>89.709677</td>\n",
              "      <td>17.741935</td>\n",
              "      <td>0.0</td>\n",
              "    </tr>\n",
              "    <tr>\n",
              "      <th>std</th>\n",
              "      <td>21.493485</td>\n",
              "      <td>0.505879</td>\n",
              "      <td>8.647456</td>\n",
              "      <td>16.801178</td>\n",
              "      <td>9.780824</td>\n",
              "      <td>0.0</td>\n",
              "    </tr>\n",
              "    <tr>\n",
              "      <th>min</th>\n",
              "      <td>127.000000</td>\n",
              "      <td>0.000000</td>\n",
              "      <td>25.000000</td>\n",
              "      <td>71.000000</td>\n",
              "      <td>1.000000</td>\n",
              "      <td>0.0</td>\n",
              "    </tr>\n",
              "    <tr>\n",
              "      <th>25%</th>\n",
              "      <td>150.000000</td>\n",
              "      <td>0.000000</td>\n",
              "      <td>36.500000</td>\n",
              "      <td>78.000000</td>\n",
              "      <td>11.500000</td>\n",
              "      <td>0.0</td>\n",
              "    </tr>\n",
              "    <tr>\n",
              "      <th>50%</th>\n",
              "      <td>169.000000</td>\n",
              "      <td>0.000000</td>\n",
              "      <td>43.000000</td>\n",
              "      <td>87.000000</td>\n",
              "      <td>16.000000</td>\n",
              "      <td>0.0</td>\n",
              "    </tr>\n",
              "    <tr>\n",
              "      <th>75%</th>\n",
              "      <td>184.000000</td>\n",
              "      <td>1.000000</td>\n",
              "      <td>47.500000</td>\n",
              "      <td>98.500000</td>\n",
              "      <td>23.500000</td>\n",
              "      <td>0.0</td>\n",
              "    </tr>\n",
              "    <tr>\n",
              "      <th>max</th>\n",
              "      <td>199.000000</td>\n",
              "      <td>1.000000</td>\n",
              "      <td>59.000000</td>\n",
              "      <td>137.000000</td>\n",
              "      <td>39.000000</td>\n",
              "      <td>0.0</td>\n",
              "    </tr>\n",
              "  </tbody>\n",
              "</table>\n",
              "</div>"
            ],
            "text/plain": [
              "       CustomerID      Genre        Age  Annual Income (k$)  \\\n",
              "count   31.000000  31.000000  31.000000           31.000000   \n",
              "mean   166.354839   0.451613  43.387097           89.709677   \n",
              "std     21.493485   0.505879   8.647456           16.801178   \n",
              "min    127.000000   0.000000  25.000000           71.000000   \n",
              "25%    150.000000   0.000000  36.500000           78.000000   \n",
              "50%    169.000000   0.000000  43.000000           87.000000   \n",
              "75%    184.000000   1.000000  47.500000           98.500000   \n",
              "max    199.000000   1.000000  59.000000          137.000000   \n",
              "\n",
              "       Spending Score (1-100)  Cluster  \n",
              "count               31.000000     31.0  \n",
              "mean                17.741935      0.0  \n",
              "std                  9.780824      0.0  \n",
              "min                  1.000000      0.0  \n",
              "25%                 11.500000      0.0  \n",
              "50%                 16.000000      0.0  \n",
              "75%                 23.500000      0.0  \n",
              "max                 39.000000      0.0  "
            ]
          },
          "metadata": {
            "tags": []
          },
          "execution_count": 23
        }
      ]
    },
    {
      "cell_type": "markdown",
      "metadata": {
        "id": "3pFyUCf3qHHg"
      },
      "source": [
        "Descrevendo o Cluster 1:"
      ]
    },
    {
      "cell_type": "code",
      "metadata": {
        "id": "eutw6MOEqHHh",
        "outputId": "9534a58c-8ea4-437a-bfd9-da5334a67079"
      },
      "source": [
        "data[data.loc[:,\"Cluster\"]==1].describe()"
      ],
      "execution_count": null,
      "outputs": [
        {
          "output_type": "execute_result",
          "data": {
            "text/html": [
              "<div>\n",
              "<style scoped>\n",
              "    .dataframe tbody tr th:only-of-type {\n",
              "        vertical-align: middle;\n",
              "    }\n",
              "\n",
              "    .dataframe tbody tr th {\n",
              "        vertical-align: top;\n",
              "    }\n",
              "\n",
              "    .dataframe thead th {\n",
              "        text-align: right;\n",
              "    }\n",
              "</style>\n",
              "<table border=\"1\" class=\"dataframe\">\n",
              "  <thead>\n",
              "    <tr style=\"text-align: right;\">\n",
              "      <th></th>\n",
              "      <th>CustomerID</th>\n",
              "      <th>Genre</th>\n",
              "      <th>Age</th>\n",
              "      <th>Annual Income (k$)</th>\n",
              "      <th>Spending Score (1-100)</th>\n",
              "      <th>Cluster</th>\n",
              "    </tr>\n",
              "  </thead>\n",
              "  <tbody>\n",
              "    <tr>\n",
              "      <th>count</th>\n",
              "      <td>22.000000</td>\n",
              "      <td>22.000000</td>\n",
              "      <td>22.000000</td>\n",
              "      <td>22.000000</td>\n",
              "      <td>22.000000</td>\n",
              "      <td>22.0</td>\n",
              "    </tr>\n",
              "    <tr>\n",
              "      <th>mean</th>\n",
              "      <td>23.090909</td>\n",
              "      <td>0.590909</td>\n",
              "      <td>25.272727</td>\n",
              "      <td>25.727273</td>\n",
              "      <td>79.363636</td>\n",
              "      <td>1.0</td>\n",
              "    </tr>\n",
              "    <tr>\n",
              "      <th>std</th>\n",
              "      <td>13.147185</td>\n",
              "      <td>0.503236</td>\n",
              "      <td>5.257030</td>\n",
              "      <td>7.566731</td>\n",
              "      <td>10.504174</td>\n",
              "      <td>0.0</td>\n",
              "    </tr>\n",
              "    <tr>\n",
              "      <th>min</th>\n",
              "      <td>2.000000</td>\n",
              "      <td>0.000000</td>\n",
              "      <td>18.000000</td>\n",
              "      <td>15.000000</td>\n",
              "      <td>61.000000</td>\n",
              "      <td>1.0</td>\n",
              "    </tr>\n",
              "    <tr>\n",
              "      <th>25%</th>\n",
              "      <td>12.500000</td>\n",
              "      <td>0.000000</td>\n",
              "      <td>21.250000</td>\n",
              "      <td>19.250000</td>\n",
              "      <td>73.000000</td>\n",
              "      <td>1.0</td>\n",
              "    </tr>\n",
              "    <tr>\n",
              "      <th>50%</th>\n",
              "      <td>23.000000</td>\n",
              "      <td>1.000000</td>\n",
              "      <td>23.500000</td>\n",
              "      <td>24.500000</td>\n",
              "      <td>77.000000</td>\n",
              "      <td>1.0</td>\n",
              "    </tr>\n",
              "    <tr>\n",
              "      <th>75%</th>\n",
              "      <td>33.500000</td>\n",
              "      <td>1.000000</td>\n",
              "      <td>29.750000</td>\n",
              "      <td>32.250000</td>\n",
              "      <td>85.750000</td>\n",
              "      <td>1.0</td>\n",
              "    </tr>\n",
              "    <tr>\n",
              "      <th>max</th>\n",
              "      <td>46.000000</td>\n",
              "      <td>1.000000</td>\n",
              "      <td>35.000000</td>\n",
              "      <td>39.000000</td>\n",
              "      <td>99.000000</td>\n",
              "      <td>1.0</td>\n",
              "    </tr>\n",
              "  </tbody>\n",
              "</table>\n",
              "</div>"
            ],
            "text/plain": [
              "       CustomerID      Genre        Age  Annual Income (k$)  \\\n",
              "count   22.000000  22.000000  22.000000           22.000000   \n",
              "mean    23.090909   0.590909  25.272727           25.727273   \n",
              "std     13.147185   0.503236   5.257030            7.566731   \n",
              "min      2.000000   0.000000  18.000000           15.000000   \n",
              "25%     12.500000   0.000000  21.250000           19.250000   \n",
              "50%     23.000000   1.000000  23.500000           24.500000   \n",
              "75%     33.500000   1.000000  29.750000           32.250000   \n",
              "max     46.000000   1.000000  35.000000           39.000000   \n",
              "\n",
              "       Spending Score (1-100)  Cluster  \n",
              "count               22.000000     22.0  \n",
              "mean                79.363636      1.0  \n",
              "std                 10.504174      0.0  \n",
              "min                 61.000000      1.0  \n",
              "25%                 73.000000      1.0  \n",
              "50%                 77.000000      1.0  \n",
              "75%                 85.750000      1.0  \n",
              "max                 99.000000      1.0  "
            ]
          },
          "metadata": {
            "tags": []
          },
          "execution_count": 24
        }
      ]
    },
    {
      "cell_type": "markdown",
      "metadata": {
        "id": "9C_rV_sDqHHm"
      },
      "source": [
        "### Exercício 1: quais são as maiores diferenças entre os dois clusters acima? Tente olhar não só para a média.\n",
        "\n",
        "### Exercício 2: crie uma persona para cada um dos clusters."
      ]
    }
  ]
}